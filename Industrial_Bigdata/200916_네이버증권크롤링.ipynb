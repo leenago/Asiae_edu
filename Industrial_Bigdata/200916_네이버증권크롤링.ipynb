{
  "nbformat": 4,
  "nbformat_minor": 0,
  "metadata": {
    "kernelspec": {
      "display_name": "Python 3",
      "language": "python",
      "name": "python3"
    },
    "language_info": {
      "codemirror_mode": {
        "name": "ipython",
        "version": 3
      },
      "file_extension": ".py",
      "mimetype": "text/x-python",
      "name": "python",
      "nbconvert_exporter": "python",
      "pygments_lexer": "ipython3",
      "version": "3.7.9"
    },
    "colab": {
      "name": "200916_네이버주가크롤링.ipynb",
      "provenance": [],
      "collapsed_sections": [],
      "include_colab_link": true
    }
  },
  "cells": [
    {
      "cell_type": "markdown",
      "metadata": {
        "id": "view-in-github",
        "colab_type": "text"
      },
      "source": [
        "<a href=\"https://colab.research.google.com/github/leenago/Asiae_edu/blob/master/Industrial_Bigdata/200916_%EB%84%A4%EC%9D%B4%EB%B2%84%EC%A6%9D%EA%B6%8C%ED%81%AC%EB%A1%A4%EB%A7%81.ipynb\" target=\"_parent\"><img src=\"https://colab.research.google.com/assets/colab-badge.svg\" alt=\"Open In Colab\"/></a>"
      ]
    },
    {
      "cell_type": "markdown",
      "metadata": {
        "id": "HL1gKfMhK7tm",
        "colab_type": "text"
      },
      "source": [
        "### 주가정보 획득 작업\n",
        "* 마케팅 포인트와 주가와의 상관관계 분석을 하고자 한다.\n",
        "* 식품기업 위주의 주가분석을 하기로 했다.\n",
        "* '네이버 증권' 페이지에 가서 관심있는 회사의 주가정보를 크롤링했다.(https://finance.naver.com/item/sise_day.nhn?code=097950&page=1)\n",
        "\n"
      ]
    },
    {
      "cell_type": "markdown",
      "metadata": {
        "id": "pQtufNY5aHcg",
        "colab_type": "text"
      },
      "source": [
        "# 1. 사전작업\n",
        "- 필요 패키지 설치하기"
      ]
    },
    {
      "cell_type": "code",
      "metadata": {
        "id": "8hUq2qLDK7tn",
        "colab_type": "code",
        "colab": {
          "base_uri": "https://localhost:8080/",
          "height": 210
        },
        "outputId": "7e2602b1-31e3-4244-ac02-2d6c1567b77f"
      },
      "source": [
        "%config InlineBackend.figure_format = 'retina'\n",
        "!apt -qq -y install fonts-nanum\n",
        "#맨 처음 실행 후\n",
        "#런타임 -> 런타임 다시시작 -> 이 셀은 실행하지 않고 밑셀부터 다시 시작"
      ],
      "execution_count": 1,
      "outputs": [
        {
          "output_type": "stream",
          "text": [
            "The following NEW packages will be installed:\n",
            "  fonts-nanum\n",
            "0 upgraded, 1 newly installed, 0 to remove and 11 not upgraded.\n",
            "Need to get 9,604 kB of archives.\n",
            "After this operation, 29.5 MB of additional disk space will be used.\n",
            "Selecting previously unselected package fonts-nanum.\n",
            "(Reading database ... 144600 files and directories currently installed.)\n",
            "Preparing to unpack .../fonts-nanum_20170925-1_all.deb ...\n",
            "Unpacking fonts-nanum (20170925-1) ...\n",
            "Setting up fonts-nanum (20170925-1) ...\n",
            "Processing triggers for fontconfig (2.12.6-0ubuntu2) ...\n"
          ],
          "name": "stdout"
        }
      ]
    },
    {
      "cell_type": "code",
      "metadata": {
        "id": "5h8nCY24YF0n",
        "colab_type": "code",
        "colab": {
          "base_uri": "https://localhost:8080/",
          "height": 72
        },
        "outputId": "da734cbb-bd56-4871-e788-3e44a8443ba6"
      },
      "source": [
        "import pandas as pd\n",
        "import seaborn as sns\n",
        "import matplotlib as mpl\n",
        "import matplotlib.pyplot as plt\n",
        "import matplotlib.font_manager as fm\n",
        "fontpath = '/usr/share/fonts/truetype/nanum/NanumBarunGothic.ttf'\n",
        "font = fm.FontProperties(fname=fontpath, size=9)\n",
        "plt.rc('font', family='NanumBarunGothic') \n",
        "mpl.font_manager._rebuild()\n",
        "mpl.pyplot.rc('font', family='NanumGothic')\n",
        "fm._rebuild()\n",
        "\n",
        "\n",
        "import requests\n",
        "from bs4 import BeautifulSoup as bs"
      ],
      "execution_count": 1,
      "outputs": [
        {
          "output_type": "stream",
          "text": [
            "/usr/local/lib/python3.6/dist-packages/statsmodels/tools/_testing.py:19: FutureWarning: pandas.util.testing is deprecated. Use the functions in the public API at pandas.testing instead.\n",
            "  import pandas.util.testing as tm\n"
          ],
          "name": "stderr"
        }
      ]
    },
    {
      "cell_type": "markdown",
      "metadata": {
        "id": "jU7IGZOGYgRR",
        "colab_type": "text"
      },
      "source": [
        "#2. 네이버 증권 웹크롤링\n",
        "- CJ제일제당 코드: 097950"
      ]
    },
    {
      "cell_type": "code",
      "metadata": {
        "id": "l7FnWRpYXH-P",
        "colab_type": "code",
        "colab": {}
      },
      "source": [
        "def one_page_crawling(code,page):\n",
        "  url = 'https://finance.naver.com/item/sise_day.nhn?code={code}&page={page}'.format(code=code, page=page)\n",
        "  df = pd.read_html(url)[0]\n",
        "  df.dropna(inplace=True)\n",
        "  return df"
      ],
      "execution_count": 2,
      "outputs": []
    },
    {
      "cell_type": "code",
      "metadata": {
        "id": "h4zHGoj_ZP8H",
        "colab_type": "code",
        "colab": {
          "base_uri": "https://localhost:8080/",
          "height": 343
        },
        "outputId": "45f31bfa-7c40-4c9c-e514-3e9031b4fa68"
      },
      "source": [
        "one_page_crawling('097950',3)"
      ],
      "execution_count": 3,
      "outputs": [
        {
          "output_type": "execute_result",
          "data": {
            "text/html": [
              "<div>\n",
              "<style scoped>\n",
              "    .dataframe tbody tr th:only-of-type {\n",
              "        vertical-align: middle;\n",
              "    }\n",
              "\n",
              "    .dataframe tbody tr th {\n",
              "        vertical-align: top;\n",
              "    }\n",
              "\n",
              "    .dataframe thead th {\n",
              "        text-align: right;\n",
              "    }\n",
              "</style>\n",
              "<table border=\"1\" class=\"dataframe\">\n",
              "  <thead>\n",
              "    <tr style=\"text-align: right;\">\n",
              "      <th></th>\n",
              "      <th>날짜</th>\n",
              "      <th>종가</th>\n",
              "      <th>전일비</th>\n",
              "      <th>시가</th>\n",
              "      <th>고가</th>\n",
              "      <th>저가</th>\n",
              "      <th>거래량</th>\n",
              "    </tr>\n",
              "  </thead>\n",
              "  <tbody>\n",
              "    <tr>\n",
              "      <th>1</th>\n",
              "      <td>2020.08.20</td>\n",
              "      <td>400500.0</td>\n",
              "      <td>2000.0</td>\n",
              "      <td>400000.0</td>\n",
              "      <td>420000.0</td>\n",
              "      <td>399000.0</td>\n",
              "      <td>138623.0</td>\n",
              "    </tr>\n",
              "    <tr>\n",
              "      <th>2</th>\n",
              "      <td>2020.08.19</td>\n",
              "      <td>402500.0</td>\n",
              "      <td>500.0</td>\n",
              "      <td>408000.0</td>\n",
              "      <td>412500.0</td>\n",
              "      <td>402000.0</td>\n",
              "      <td>76931.0</td>\n",
              "    </tr>\n",
              "    <tr>\n",
              "      <th>3</th>\n",
              "      <td>2020.08.18</td>\n",
              "      <td>403000.0</td>\n",
              "      <td>2000.0</td>\n",
              "      <td>407000.0</td>\n",
              "      <td>421000.0</td>\n",
              "      <td>398000.0</td>\n",
              "      <td>133759.0</td>\n",
              "    </tr>\n",
              "    <tr>\n",
              "      <th>4</th>\n",
              "      <td>2020.08.14</td>\n",
              "      <td>401000.0</td>\n",
              "      <td>13000.0</td>\n",
              "      <td>413000.0</td>\n",
              "      <td>417000.0</td>\n",
              "      <td>397500.0</td>\n",
              "      <td>121448.0</td>\n",
              "    </tr>\n",
              "    <tr>\n",
              "      <th>5</th>\n",
              "      <td>2020.08.13</td>\n",
              "      <td>414000.0</td>\n",
              "      <td>500.0</td>\n",
              "      <td>418500.0</td>\n",
              "      <td>425000.0</td>\n",
              "      <td>405500.0</td>\n",
              "      <td>163946.0</td>\n",
              "    </tr>\n",
              "    <tr>\n",
              "      <th>9</th>\n",
              "      <td>2020.08.12</td>\n",
              "      <td>414500.0</td>\n",
              "      <td>29000.0</td>\n",
              "      <td>438500.0</td>\n",
              "      <td>451000.0</td>\n",
              "      <td>413000.0</td>\n",
              "      <td>277899.0</td>\n",
              "    </tr>\n",
              "    <tr>\n",
              "      <th>10</th>\n",
              "      <td>2020.08.11</td>\n",
              "      <td>443500.0</td>\n",
              "      <td>16500.0</td>\n",
              "      <td>427000.0</td>\n",
              "      <td>443500.0</td>\n",
              "      <td>407000.0</td>\n",
              "      <td>194475.0</td>\n",
              "    </tr>\n",
              "    <tr>\n",
              "      <th>11</th>\n",
              "      <td>2020.08.10</td>\n",
              "      <td>427000.0</td>\n",
              "      <td>3000.0</td>\n",
              "      <td>425500.0</td>\n",
              "      <td>431000.0</td>\n",
              "      <td>422500.0</td>\n",
              "      <td>67787.0</td>\n",
              "    </tr>\n",
              "    <tr>\n",
              "      <th>12</th>\n",
              "      <td>2020.08.07</td>\n",
              "      <td>424000.0</td>\n",
              "      <td>4000.0</td>\n",
              "      <td>422000.0</td>\n",
              "      <td>428500.0</td>\n",
              "      <td>413000.0</td>\n",
              "      <td>89595.0</td>\n",
              "    </tr>\n",
              "    <tr>\n",
              "      <th>13</th>\n",
              "      <td>2020.08.06</td>\n",
              "      <td>420000.0</td>\n",
              "      <td>2500.0</td>\n",
              "      <td>420000.0</td>\n",
              "      <td>428000.0</td>\n",
              "      <td>413500.0</td>\n",
              "      <td>70190.0</td>\n",
              "    </tr>\n",
              "  </tbody>\n",
              "</table>\n",
              "</div>"
            ],
            "text/plain": [
              "            날짜        종가      전일비        시가        고가        저가       거래량\n",
              "1   2020.08.20  400500.0   2000.0  400000.0  420000.0  399000.0  138623.0\n",
              "2   2020.08.19  402500.0    500.0  408000.0  412500.0  402000.0   76931.0\n",
              "3   2020.08.18  403000.0   2000.0  407000.0  421000.0  398000.0  133759.0\n",
              "4   2020.08.14  401000.0  13000.0  413000.0  417000.0  397500.0  121448.0\n",
              "5   2020.08.13  414000.0    500.0  418500.0  425000.0  405500.0  163946.0\n",
              "9   2020.08.12  414500.0  29000.0  438500.0  451000.0  413000.0  277899.0\n",
              "10  2020.08.11  443500.0  16500.0  427000.0  443500.0  407000.0  194475.0\n",
              "11  2020.08.10  427000.0   3000.0  425500.0  431000.0  422500.0   67787.0\n",
              "12  2020.08.07  424000.0   4000.0  422000.0  428500.0  413000.0   89595.0\n",
              "13  2020.08.06  420000.0   2500.0  420000.0  428000.0  413500.0   70190.0"
            ]
          },
          "metadata": {
            "tags": []
          },
          "execution_count": 3
        }
      ]
    },
    {
      "cell_type": "code",
      "metadata": {
        "id": "oU9VTLVdZUGV",
        "colab_type": "code",
        "colab": {}
      },
      "source": [
        "def several_page_crawling(code,page):\n",
        "  url = 'https://finance.naver.com/item/sise_day.nhn?code={code}&page={page}'.format(code=code, page=page)\n",
        "  df = pd.DataFrame()\n",
        "  for i in range(1, page+1):\n",
        "    new_df = one_page_crawling(code, i)\n",
        "    df = pd.concat([df,new_df], axis=0)\n",
        "  df.dropna(inplace = True)\n",
        "  df.reset_index(inplace=True, drop=True)\n",
        "  return df"
      ],
      "execution_count": 4,
      "outputs": []
    },
    {
      "cell_type": "code",
      "metadata": {
        "id": "KYpN_Tk6Z6Pl",
        "colab_type": "code",
        "colab": {
          "base_uri": "https://localhost:8080/",
          "height": 639
        },
        "outputId": "f1a7de83-34d3-475a-aff0-929bf2981852"
      },
      "source": [
        "several_page_crawling('097950',2)"
      ],
      "execution_count": 5,
      "outputs": [
        {
          "output_type": "execute_result",
          "data": {
            "text/html": [
              "<div>\n",
              "<style scoped>\n",
              "    .dataframe tbody tr th:only-of-type {\n",
              "        vertical-align: middle;\n",
              "    }\n",
              "\n",
              "    .dataframe tbody tr th {\n",
              "        vertical-align: top;\n",
              "    }\n",
              "\n",
              "    .dataframe thead th {\n",
              "        text-align: right;\n",
              "    }\n",
              "</style>\n",
              "<table border=\"1\" class=\"dataframe\">\n",
              "  <thead>\n",
              "    <tr style=\"text-align: right;\">\n",
              "      <th></th>\n",
              "      <th>날짜</th>\n",
              "      <th>종가</th>\n",
              "      <th>전일비</th>\n",
              "      <th>시가</th>\n",
              "      <th>고가</th>\n",
              "      <th>저가</th>\n",
              "      <th>거래량</th>\n",
              "    </tr>\n",
              "  </thead>\n",
              "  <tbody>\n",
              "    <tr>\n",
              "      <th>0</th>\n",
              "      <td>2020.09.17</td>\n",
              "      <td>387000.0</td>\n",
              "      <td>6000.0</td>\n",
              "      <td>393000.0</td>\n",
              "      <td>396000.0</td>\n",
              "      <td>386000.0</td>\n",
              "      <td>51334.0</td>\n",
              "    </tr>\n",
              "    <tr>\n",
              "      <th>1</th>\n",
              "      <td>2020.09.16</td>\n",
              "      <td>393000.0</td>\n",
              "      <td>1000.0</td>\n",
              "      <td>395000.0</td>\n",
              "      <td>402000.0</td>\n",
              "      <td>392500.0</td>\n",
              "      <td>48945.0</td>\n",
              "    </tr>\n",
              "    <tr>\n",
              "      <th>2</th>\n",
              "      <td>2020.09.15</td>\n",
              "      <td>394000.0</td>\n",
              "      <td>2000.0</td>\n",
              "      <td>392000.0</td>\n",
              "      <td>396000.0</td>\n",
              "      <td>388000.0</td>\n",
              "      <td>47654.0</td>\n",
              "    </tr>\n",
              "    <tr>\n",
              "      <th>3</th>\n",
              "      <td>2020.09.14</td>\n",
              "      <td>392000.0</td>\n",
              "      <td>11500.0</td>\n",
              "      <td>403500.0</td>\n",
              "      <td>404000.0</td>\n",
              "      <td>388000.0</td>\n",
              "      <td>100636.0</td>\n",
              "    </tr>\n",
              "    <tr>\n",
              "      <th>4</th>\n",
              "      <td>2020.09.11</td>\n",
              "      <td>403500.0</td>\n",
              "      <td>2000.0</td>\n",
              "      <td>401500.0</td>\n",
              "      <td>416500.0</td>\n",
              "      <td>399500.0</td>\n",
              "      <td>108033.0</td>\n",
              "    </tr>\n",
              "    <tr>\n",
              "      <th>5</th>\n",
              "      <td>2020.09.10</td>\n",
              "      <td>401500.0</td>\n",
              "      <td>26000.0</td>\n",
              "      <td>381500.0</td>\n",
              "      <td>404500.0</td>\n",
              "      <td>380000.0</td>\n",
              "      <td>172970.0</td>\n",
              "    </tr>\n",
              "    <tr>\n",
              "      <th>6</th>\n",
              "      <td>2020.09.09</td>\n",
              "      <td>375500.0</td>\n",
              "      <td>14000.0</td>\n",
              "      <td>385000.0</td>\n",
              "      <td>388500.0</td>\n",
              "      <td>373000.0</td>\n",
              "      <td>138771.0</td>\n",
              "    </tr>\n",
              "    <tr>\n",
              "      <th>7</th>\n",
              "      <td>2020.09.08</td>\n",
              "      <td>389500.0</td>\n",
              "      <td>0.0</td>\n",
              "      <td>392500.0</td>\n",
              "      <td>396000.0</td>\n",
              "      <td>389500.0</td>\n",
              "      <td>60046.0</td>\n",
              "    </tr>\n",
              "    <tr>\n",
              "      <th>8</th>\n",
              "      <td>2020.09.07</td>\n",
              "      <td>389500.0</td>\n",
              "      <td>7000.0</td>\n",
              "      <td>399000.0</td>\n",
              "      <td>399500.0</td>\n",
              "      <td>387500.0</td>\n",
              "      <td>72911.0</td>\n",
              "    </tr>\n",
              "    <tr>\n",
              "      <th>9</th>\n",
              "      <td>2020.09.04</td>\n",
              "      <td>396500.0</td>\n",
              "      <td>5000.0</td>\n",
              "      <td>394500.0</td>\n",
              "      <td>400000.0</td>\n",
              "      <td>393000.0</td>\n",
              "      <td>69718.0</td>\n",
              "    </tr>\n",
              "    <tr>\n",
              "      <th>10</th>\n",
              "      <td>2020.09.03</td>\n",
              "      <td>401500.0</td>\n",
              "      <td>0.0</td>\n",
              "      <td>401500.0</td>\n",
              "      <td>405000.0</td>\n",
              "      <td>399500.0</td>\n",
              "      <td>57308.0</td>\n",
              "    </tr>\n",
              "    <tr>\n",
              "      <th>11</th>\n",
              "      <td>2020.09.02</td>\n",
              "      <td>401500.0</td>\n",
              "      <td>2000.0</td>\n",
              "      <td>409500.0</td>\n",
              "      <td>409500.0</td>\n",
              "      <td>398500.0</td>\n",
              "      <td>73476.0</td>\n",
              "    </tr>\n",
              "    <tr>\n",
              "      <th>12</th>\n",
              "      <td>2020.09.01</td>\n",
              "      <td>403500.0</td>\n",
              "      <td>3500.0</td>\n",
              "      <td>403500.0</td>\n",
              "      <td>409500.0</td>\n",
              "      <td>398500.0</td>\n",
              "      <td>59447.0</td>\n",
              "    </tr>\n",
              "    <tr>\n",
              "      <th>13</th>\n",
              "      <td>2020.08.31</td>\n",
              "      <td>407000.0</td>\n",
              "      <td>9500.0</td>\n",
              "      <td>419500.0</td>\n",
              "      <td>419500.0</td>\n",
              "      <td>404500.0</td>\n",
              "      <td>112822.0</td>\n",
              "    </tr>\n",
              "    <tr>\n",
              "      <th>14</th>\n",
              "      <td>2020.08.28</td>\n",
              "      <td>416500.0</td>\n",
              "      <td>1500.0</td>\n",
              "      <td>420000.0</td>\n",
              "      <td>422000.0</td>\n",
              "      <td>413000.0</td>\n",
              "      <td>58254.0</td>\n",
              "    </tr>\n",
              "    <tr>\n",
              "      <th>15</th>\n",
              "      <td>2020.08.27</td>\n",
              "      <td>418000.0</td>\n",
              "      <td>1500.0</td>\n",
              "      <td>416500.0</td>\n",
              "      <td>419500.0</td>\n",
              "      <td>412000.0</td>\n",
              "      <td>70579.0</td>\n",
              "    </tr>\n",
              "    <tr>\n",
              "      <th>16</th>\n",
              "      <td>2020.08.26</td>\n",
              "      <td>416500.0</td>\n",
              "      <td>0.0</td>\n",
              "      <td>416500.0</td>\n",
              "      <td>420000.0</td>\n",
              "      <td>408000.0</td>\n",
              "      <td>70882.0</td>\n",
              "    </tr>\n",
              "    <tr>\n",
              "      <th>17</th>\n",
              "      <td>2020.08.25</td>\n",
              "      <td>416500.0</td>\n",
              "      <td>10500.0</td>\n",
              "      <td>413000.0</td>\n",
              "      <td>417500.0</td>\n",
              "      <td>405500.0</td>\n",
              "      <td>87109.0</td>\n",
              "    </tr>\n",
              "    <tr>\n",
              "      <th>18</th>\n",
              "      <td>2020.08.24</td>\n",
              "      <td>406000.0</td>\n",
              "      <td>9000.0</td>\n",
              "      <td>404000.0</td>\n",
              "      <td>410000.0</td>\n",
              "      <td>401500.0</td>\n",
              "      <td>67976.0</td>\n",
              "    </tr>\n",
              "    <tr>\n",
              "      <th>19</th>\n",
              "      <td>2020.08.21</td>\n",
              "      <td>397000.0</td>\n",
              "      <td>3500.0</td>\n",
              "      <td>403000.0</td>\n",
              "      <td>405000.0</td>\n",
              "      <td>387000.0</td>\n",
              "      <td>92889.0</td>\n",
              "    </tr>\n",
              "  </tbody>\n",
              "</table>\n",
              "</div>"
            ],
            "text/plain": [
              "            날짜        종가      전일비        시가        고가        저가       거래량\n",
              "0   2020.09.17  387000.0   6000.0  393000.0  396000.0  386000.0   51334.0\n",
              "1   2020.09.16  393000.0   1000.0  395000.0  402000.0  392500.0   48945.0\n",
              "2   2020.09.15  394000.0   2000.0  392000.0  396000.0  388000.0   47654.0\n",
              "3   2020.09.14  392000.0  11500.0  403500.0  404000.0  388000.0  100636.0\n",
              "4   2020.09.11  403500.0   2000.0  401500.0  416500.0  399500.0  108033.0\n",
              "5   2020.09.10  401500.0  26000.0  381500.0  404500.0  380000.0  172970.0\n",
              "6   2020.09.09  375500.0  14000.0  385000.0  388500.0  373000.0  138771.0\n",
              "7   2020.09.08  389500.0      0.0  392500.0  396000.0  389500.0   60046.0\n",
              "8   2020.09.07  389500.0   7000.0  399000.0  399500.0  387500.0   72911.0\n",
              "9   2020.09.04  396500.0   5000.0  394500.0  400000.0  393000.0   69718.0\n",
              "10  2020.09.03  401500.0      0.0  401500.0  405000.0  399500.0   57308.0\n",
              "11  2020.09.02  401500.0   2000.0  409500.0  409500.0  398500.0   73476.0\n",
              "12  2020.09.01  403500.0   3500.0  403500.0  409500.0  398500.0   59447.0\n",
              "13  2020.08.31  407000.0   9500.0  419500.0  419500.0  404500.0  112822.0\n",
              "14  2020.08.28  416500.0   1500.0  420000.0  422000.0  413000.0   58254.0\n",
              "15  2020.08.27  418000.0   1500.0  416500.0  419500.0  412000.0   70579.0\n",
              "16  2020.08.26  416500.0      0.0  416500.0  420000.0  408000.0   70882.0\n",
              "17  2020.08.25  416500.0  10500.0  413000.0  417500.0  405500.0   87109.0\n",
              "18  2020.08.24  406000.0   9000.0  404000.0  410000.0  401500.0   67976.0\n",
              "19  2020.08.21  397000.0   3500.0  403000.0  405000.0  387000.0   92889.0"
            ]
          },
          "metadata": {
            "tags": []
          },
          "execution_count": 5
        }
      ]
    },
    {
      "cell_type": "code",
      "metadata": {
        "id": "4lN34R4NZ85Q",
        "colab_type": "code",
        "colab": {
          "base_uri": "https://localhost:8080/",
          "height": 402
        },
        "outputId": "ed3f3d1c-a844-4de4-b86d-497547f2034c"
      },
      "source": [
        "cj_stock_all = several_page_crawling('097950',321)\n",
        "cj_stock_all"
      ],
      "execution_count": 6,
      "outputs": [
        {
          "output_type": "execute_result",
          "data": {
            "text/html": [
              "<div>\n",
              "<style scoped>\n",
              "    .dataframe tbody tr th:only-of-type {\n",
              "        vertical-align: middle;\n",
              "    }\n",
              "\n",
              "    .dataframe tbody tr th {\n",
              "        vertical-align: top;\n",
              "    }\n",
              "\n",
              "    .dataframe thead th {\n",
              "        text-align: right;\n",
              "    }\n",
              "</style>\n",
              "<table border=\"1\" class=\"dataframe\">\n",
              "  <thead>\n",
              "    <tr style=\"text-align: right;\">\n",
              "      <th></th>\n",
              "      <th>날짜</th>\n",
              "      <th>종가</th>\n",
              "      <th>전일비</th>\n",
              "      <th>시가</th>\n",
              "      <th>고가</th>\n",
              "      <th>저가</th>\n",
              "      <th>거래량</th>\n",
              "    </tr>\n",
              "  </thead>\n",
              "  <tbody>\n",
              "    <tr>\n",
              "      <th>0</th>\n",
              "      <td>2020.09.17</td>\n",
              "      <td>387000.0</td>\n",
              "      <td>6000.0</td>\n",
              "      <td>393000.0</td>\n",
              "      <td>396000.0</td>\n",
              "      <td>386000.0</td>\n",
              "      <td>51334.0</td>\n",
              "    </tr>\n",
              "    <tr>\n",
              "      <th>1</th>\n",
              "      <td>2020.09.16</td>\n",
              "      <td>393000.0</td>\n",
              "      <td>1000.0</td>\n",
              "      <td>395000.0</td>\n",
              "      <td>402000.0</td>\n",
              "      <td>392500.0</td>\n",
              "      <td>48945.0</td>\n",
              "    </tr>\n",
              "    <tr>\n",
              "      <th>2</th>\n",
              "      <td>2020.09.15</td>\n",
              "      <td>394000.0</td>\n",
              "      <td>2000.0</td>\n",
              "      <td>392000.0</td>\n",
              "      <td>396000.0</td>\n",
              "      <td>388000.0</td>\n",
              "      <td>47654.0</td>\n",
              "    </tr>\n",
              "    <tr>\n",
              "      <th>3</th>\n",
              "      <td>2020.09.14</td>\n",
              "      <td>392000.0</td>\n",
              "      <td>11500.0</td>\n",
              "      <td>403500.0</td>\n",
              "      <td>404000.0</td>\n",
              "      <td>388000.0</td>\n",
              "      <td>100636.0</td>\n",
              "    </tr>\n",
              "    <tr>\n",
              "      <th>4</th>\n",
              "      <td>2020.09.11</td>\n",
              "      <td>403500.0</td>\n",
              "      <td>2000.0</td>\n",
              "      <td>401500.0</td>\n",
              "      <td>416500.0</td>\n",
              "      <td>399500.0</td>\n",
              "      <td>108033.0</td>\n",
              "    </tr>\n",
              "    <tr>\n",
              "      <th>...</th>\n",
              "      <td>...</td>\n",
              "      <td>...</td>\n",
              "      <td>...</td>\n",
              "      <td>...</td>\n",
              "      <td>...</td>\n",
              "      <td>...</td>\n",
              "      <td>...</td>\n",
              "    </tr>\n",
              "    <tr>\n",
              "      <th>3204</th>\n",
              "      <td>2007.10.05</td>\n",
              "      <td>252500.0</td>\n",
              "      <td>2500.0</td>\n",
              "      <td>255000.0</td>\n",
              "      <td>257000.0</td>\n",
              "      <td>245000.0</td>\n",
              "      <td>112563.0</td>\n",
              "    </tr>\n",
              "    <tr>\n",
              "      <th>3205</th>\n",
              "      <td>2007.10.04</td>\n",
              "      <td>255000.0</td>\n",
              "      <td>10000.0</td>\n",
              "      <td>247000.0</td>\n",
              "      <td>263000.0</td>\n",
              "      <td>241000.0</td>\n",
              "      <td>221795.0</td>\n",
              "    </tr>\n",
              "    <tr>\n",
              "      <th>3206</th>\n",
              "      <td>2007.10.02</td>\n",
              "      <td>245000.0</td>\n",
              "      <td>25000.0</td>\n",
              "      <td>229000.0</td>\n",
              "      <td>247500.0</td>\n",
              "      <td>226000.0</td>\n",
              "      <td>239345.0</td>\n",
              "    </tr>\n",
              "    <tr>\n",
              "      <th>3207</th>\n",
              "      <td>2007.10.01</td>\n",
              "      <td>220000.0</td>\n",
              "      <td>10000.0</td>\n",
              "      <td>230000.0</td>\n",
              "      <td>233000.0</td>\n",
              "      <td>220000.0</td>\n",
              "      <td>267416.0</td>\n",
              "    </tr>\n",
              "    <tr>\n",
              "      <th>3208</th>\n",
              "      <td>2007.09.28</td>\n",
              "      <td>230000.0</td>\n",
              "      <td>9000.0</td>\n",
              "      <td>221000.0</td>\n",
              "      <td>254000.0</td>\n",
              "      <td>221000.0</td>\n",
              "      <td>509746.0</td>\n",
              "    </tr>\n",
              "  </tbody>\n",
              "</table>\n",
              "<p>3209 rows × 7 columns</p>\n",
              "</div>"
            ],
            "text/plain": [
              "              날짜        종가      전일비        시가        고가        저가       거래량\n",
              "0     2020.09.17  387000.0   6000.0  393000.0  396000.0  386000.0   51334.0\n",
              "1     2020.09.16  393000.0   1000.0  395000.0  402000.0  392500.0   48945.0\n",
              "2     2020.09.15  394000.0   2000.0  392000.0  396000.0  388000.0   47654.0\n",
              "3     2020.09.14  392000.0  11500.0  403500.0  404000.0  388000.0  100636.0\n",
              "4     2020.09.11  403500.0   2000.0  401500.0  416500.0  399500.0  108033.0\n",
              "...          ...       ...      ...       ...       ...       ...       ...\n",
              "3204  2007.10.05  252500.0   2500.0  255000.0  257000.0  245000.0  112563.0\n",
              "3205  2007.10.04  255000.0  10000.0  247000.0  263000.0  241000.0  221795.0\n",
              "3206  2007.10.02  245000.0  25000.0  229000.0  247500.0  226000.0  239345.0\n",
              "3207  2007.10.01  220000.0  10000.0  230000.0  233000.0  220000.0  267416.0\n",
              "3208  2007.09.28  230000.0   9000.0  221000.0  254000.0  221000.0  509746.0\n",
              "\n",
              "[3209 rows x 7 columns]"
            ]
          },
          "metadata": {
            "tags": []
          },
          "execution_count": 6
        }
      ]
    },
    {
      "cell_type": "markdown",
      "metadata": {
        "id": "hjMujBOWcnGD",
        "colab_type": "text"
      },
      "source": [
        "#3. Google BigQuery와 연동하기\n",
        "- 크롤링 한 정보들을 **Google BigQuery**에 업로드한다.\n",
        "- 새로이 알게된 방식이기 때문에, 이 코드는 잘 안고 가기로 한다. "
      ]
    },
    {
      "cell_type": "code",
      "metadata": {
        "id": "BCsY4eE7cM3J",
        "colab_type": "code",
        "colab": {
          "base_uri": "https://localhost:8080/",
          "height": 90
        },
        "outputId": "fc0ca89a-78b7-48a0-8055-39d04fc1fc48"
      },
      "source": [
        "from pandas.io import gbq\n",
        "\n",
        "#BigQuery는 영어 column명만 취급한다.\n",
        "cj_stock_all_eng = cj_stock_all.copy()\n",
        "cj_stock_all_eng.columns = ['DATE','CLOSEP','COMPARE','OPENP','HIGHP','LOWP','VOL']\n",
        "\n",
        "cj_stock_all_eng.to_gbq(destination_table = 'NaverStock.CJ_cj',\n",
        "                        project_id = 'stockcj',\n",
        "                        if_exists='replace')"
      ],
      "execution_count": 7,
      "outputs": [
        {
          "output_type": "stream",
          "text": [
            "Please visit this URL to authorize this application: https://accounts.google.com/o/oauth2/auth?response_type=code&client_id=725825577420-unm2gnkiprugilg743tkbig250f4sfsj.apps.googleusercontent.com&redirect_uri=urn%3Aietf%3Awg%3Aoauth%3A2.0%3Aoob&scope=https%3A%2F%2Fwww.googleapis.com%2Fauth%2Fbigquery&state=4rOorhwXt7spqGtFgvTAAOGnMHBkjo&prompt=consent&access_type=offline\n",
            "Enter the authorization code: 4/4QFlyLxkHHo_b_SEHCEeHxEPNON7RnR41udAVWoEDPc0McsfVEC-cSs\n"
          ],
          "name": "stdout"
        },
        {
          "output_type": "stream",
          "text": [
            "1it [00:04,  4.52s/it]\n"
          ],
          "name": "stderr"
        }
      ]
    },
    {
      "cell_type": "markdown",
      "metadata": {
        "id": "f5C2-tB4faaV",
        "colab_type": "text"
      },
      "source": [
        "# 4. 종가 최고치 찾기"
      ]
    },
    {
      "cell_type": "code",
      "metadata": {
        "id": "ZNzNw93Ne42J",
        "colab_type": "code",
        "colab": {
          "base_uri": "https://localhost:8080/",
          "height": 108
        },
        "outputId": "6f16e32d-31c6-4d60-d9c1-7f803e2084cd"
      },
      "source": [
        "x = cj_stock_all['날짜']\n",
        "y = cj_stock_all['종가']\n",
        "\n",
        "plt.figure(figsize=[50,5])\n",
        "plt.plot(list(x),list(y))"
      ],
      "execution_count": 8,
      "outputs": [
        {
          "output_type": "execute_result",
          "data": {
            "text/plain": [
              "[<matplotlib.lines.Line2D at 0x7f9f05d3cd68>]"
            ]
          },
          "metadata": {
            "tags": []
          },
          "execution_count": 8
        },
        {
          "output_type": "display_data",
          "data": {
            "image/png": "[encoded data removed]",
            "text/plain": [
              "<Figure size 3600x360 with 1 Axes>"
            ]
          },
          "metadata": {
            "tags": [],
            "needs_background": "light"
          }
        }
      ]
    },
    {
      "cell_type": "code",
      "metadata": {
        "id": "T9qMF_fbfqiW",
        "colab_type": "code",
        "colab": {
          "base_uri": "https://localhost:8080/",
          "height": 77
        },
        "outputId": "8d2b7df7-a558-415a-cd5a-1cb64727f35d"
      },
      "source": [
        "cj_stock_all[cj_stock_all['종가']==cj_stock_all['종가'].max()]"
      ],
      "execution_count": 9,
      "outputs": [
        {
          "output_type": "execute_result",
          "data": {
            "text/html": [
              "<div>\n",
              "<style scoped>\n",
              "    .dataframe tbody tr th:only-of-type {\n",
              "        vertical-align: middle;\n",
              "    }\n",
              "\n",
              "    .dataframe tbody tr th {\n",
              "        vertical-align: top;\n",
              "    }\n",
              "\n",
              "    .dataframe thead th {\n",
              "        text-align: right;\n",
              "    }\n",
              "</style>\n",
              "<table border=\"1\" class=\"dataframe\">\n",
              "  <thead>\n",
              "    <tr style=\"text-align: right;\">\n",
              "      <th></th>\n",
              "      <th>날짜</th>\n",
              "      <th>종가</th>\n",
              "      <th>전일비</th>\n",
              "      <th>시가</th>\n",
              "      <th>고가</th>\n",
              "      <th>저가</th>\n",
              "      <th>거래량</th>\n",
              "    </tr>\n",
              "  </thead>\n",
              "  <tbody>\n",
              "    <tr>\n",
              "      <th>1311</th>\n",
              "      <td>2015.05.21</td>\n",
              "      <td>458500.0</td>\n",
              "      <td>11000.0</td>\n",
              "      <td>448000.0</td>\n",
              "      <td>460500.0</td>\n",
              "      <td>446000.0</td>\n",
              "      <td>47131.0</td>\n",
              "    </tr>\n",
              "  </tbody>\n",
              "</table>\n",
              "</div>"
            ],
            "text/plain": [
              "              날짜        종가      전일비        시가        고가        저가      거래량\n",
              "1311  2015.05.21  458500.0  11000.0  448000.0  460500.0  446000.0  47131.0"
            ]
          },
          "metadata": {
            "tags": []
          },
          "execution_count": 9
        }
      ]
    },
    {
      "cell_type": "code",
      "metadata": {
        "id": "4nj_CrE4jti9",
        "colab_type": "code",
        "colab": {
          "base_uri": "https://localhost:8080/",
          "height": 1000
        },
        "outputId": "6d149c97-dba4-4973-adbe-0503c41e5bba"
      },
      "source": [
        "#해당 정보들이 어떤 내용들을 담고 있는지 알아보기\n",
        "max_x = cj_stock_all[1300:1320]['날짜']\n",
        "max_y = cj_stock_all[1300:1320]['종가']\n",
        "max_z = cj_stock_all[1300:1320]['거래량']\n",
        "print(max_x, max_y, max_z)"
      ],
      "execution_count": 10,
      "outputs": [
        {
          "output_type": "stream",
          "text": [
            "1300    2015.06.08\n",
            "1301    2015.06.05\n",
            "1302    2015.06.04\n",
            "1303    2015.06.03\n",
            "1304    2015.06.02\n",
            "1305    2015.06.01\n",
            "1306    2015.05.29\n",
            "1307    2015.05.28\n",
            "1308    2015.05.27\n",
            "1309    2015.05.26\n",
            "1310    2015.05.22\n",
            "1311    2015.05.21\n",
            "1312    2015.05.20\n",
            "1313    2015.05.19\n",
            "1314    2015.05.18\n",
            "1315    2015.05.15\n",
            "1316    2015.05.14\n",
            "1317    2015.05.13\n",
            "1318    2015.05.12\n",
            "1319    2015.05.11\n",
            "Name: 날짜, dtype: object 1300    403000.0\n",
            "1301    402000.0\n",
            "1302    395500.0\n",
            "1303    406000.0\n",
            "1304    404000.0\n",
            "1305    420500.0\n",
            "1306    410000.0\n",
            "1307    418500.0\n",
            "1308    424500.0\n",
            "1309    425500.0\n",
            "1310    444500.0\n",
            "1311    458500.0\n",
            "1312    447500.0\n",
            "1313    445000.0\n",
            "1314    447000.0\n",
            "1315    443500.0\n",
            "1316    447000.0\n",
            "1317    450500.0\n",
            "1318    451500.0\n",
            "1319    455500.0\n",
            "Name: 종가, dtype: float64 1300    36426.0\n",
            "1301    43194.0\n",
            "1302    71777.0\n",
            "1303    52018.0\n",
            "1304    77343.0\n",
            "1305    49794.0\n",
            "1306    56305.0\n",
            "1307    32993.0\n",
            "1308    81908.0\n",
            "1309    92660.0\n",
            "1310    80727.0\n",
            "1311    47131.0\n",
            "1312    43723.0\n",
            "1313    44781.0\n",
            "1314    37232.0\n",
            "1315    33971.0\n",
            "1316    41340.0\n",
            "1317    30609.0\n",
            "1318    37810.0\n",
            "1319    64280.0\n",
            "Name: 거래량, dtype: float64\n"
          ],
          "name": "stdout"
        }
      ]
    },
    {
      "cell_type": "code",
      "metadata": {
        "id": "k44gHinpgbGb",
        "colab_type": "code",
        "colab": {
          "base_uri": "https://localhost:8080/",
          "height": 211
        },
        "outputId": "4bb8d48e-da06-48f3-f4d2-e1a23a341ee4"
      },
      "source": [
        "#종가 최고치에 따른 거래량 시각화하기\n",
        "plt.rcParams['figure.figsize'] = (14,4)\n",
        "ax1 = cj_stock_all[1300:1320].plot(kind = 'line', x='날짜', y='종가', color='Blue')\n",
        "ax2 = cj_stock_all[1300:1320].plot(kind = 'line', x='날짜', y='거래량',secondary_y=True, color='Green', ax=ax1)\n",
        "\n",
        "ax1.set_ylabel('종가')\n",
        "ax2.set_ylabel('거래량')\n",
        "\n",
        "plt.title('종가 최고치에 따른 거래량')\n",
        "plt.tight_layout()\n",
        "plt.show()"
      ],
      "execution_count": 11,
      "outputs": [
        {
          "output_type": "display_data",
          "data": {
            "image/png": "[encoded data removed]",
            "text/plain": [
              "<Figure size 1008x288 with 2 Axes>"
            ]
          },
          "metadata": {
            "tags": [],
            "needs_background": "light"
          }
        }
      ]
    },
    {
      "cell_type": "markdown",
      "metadata": {
        "id": "E21pxx3c4txL",
        "colab_type": "text"
      },
      "source": [
        "- 종가가 high 할 때 거래량이 낮네\n",
        "- 근데 2015년 15 이후 보면 늘 그런 것만은 아니구,,,"
      ]
    },
    {
      "cell_type": "markdown",
      "metadata": {
        "id": "-j-1DvH3siDp",
        "colab_type": "text"
      },
      "source": [
        "#5. 종가 최저치 찾기"
      ]
    },
    {
      "cell_type": "code",
      "metadata": {
        "id": "Jl3G4xA3hL4z",
        "colab_type": "code",
        "colab": {
          "base_uri": "https://localhost:8080/",
          "height": 77
        },
        "outputId": "8dc25af1-2d36-40a5-aa2c-20106a519d67"
      },
      "source": [
        "cj_stock_all[cj_stock_all['종가']== cj_stock_all['종가'].min()]"
      ],
      "execution_count": 12,
      "outputs": [
        {
          "output_type": "execute_result",
          "data": {
            "text/html": [
              "<div>\n",
              "<style scoped>\n",
              "    .dataframe tbody tr th:only-of-type {\n",
              "        vertical-align: middle;\n",
              "    }\n",
              "\n",
              "    .dataframe tbody tr th {\n",
              "        vertical-align: top;\n",
              "    }\n",
              "\n",
              "    .dataframe thead th {\n",
              "        text-align: right;\n",
              "    }\n",
              "</style>\n",
              "<table border=\"1\" class=\"dataframe\">\n",
              "  <thead>\n",
              "    <tr style=\"text-align: right;\">\n",
              "      <th></th>\n",
              "      <th>날짜</th>\n",
              "      <th>종가</th>\n",
              "      <th>전일비</th>\n",
              "      <th>시가</th>\n",
              "      <th>고가</th>\n",
              "      <th>저가</th>\n",
              "      <th>거래량</th>\n",
              "    </tr>\n",
              "  </thead>\n",
              "  <tbody>\n",
              "    <tr>\n",
              "      <th>2943</th>\n",
              "      <td>2008.10.27</td>\n",
              "      <td>101000.0</td>\n",
              "      <td>12500.0</td>\n",
              "      <td>105500.0</td>\n",
              "      <td>113000.0</td>\n",
              "      <td>96500.0</td>\n",
              "      <td>213114.0</td>\n",
              "    </tr>\n",
              "  </tbody>\n",
              "</table>\n",
              "</div>"
            ],
            "text/plain": [
              "              날짜        종가      전일비        시가        고가       저가       거래량\n",
              "2943  2008.10.27  101000.0  12500.0  105500.0  113000.0  96500.0  213114.0"
            ]
          },
          "metadata": {
            "tags": []
          },
          "execution_count": 12
        }
      ]
    },
    {
      "cell_type": "code",
      "metadata": {
        "id": "lDsOWVYObwtH",
        "colab_type": "code",
        "colab": {
          "base_uri": "https://localhost:8080/",
          "height": 1000
        },
        "outputId": "bd399917-00f3-489b-a94e-d73a392266ea"
      },
      "source": [
        "#해당 정보들이 어떤 내용들을 담고 있는지 알아보기\n",
        "min_x = cj_stock_all[2930:2950]['날짜']\n",
        "min_y = cj_stock_all[2930:2950]['종가']\n",
        "min_z = cj_stock_all[2930:2950]['거래량']\n",
        "print(min_x, min_y, min_z)"
      ],
      "execution_count": 19,
      "outputs": [
        {
          "output_type": "stream",
          "text": [
            "2930    2008.11.13\n",
            "2931    2008.11.12\n",
            "2932    2008.11.11\n",
            "2933    2008.11.10\n",
            "2934    2008.11.07\n",
            "2935    2008.11.06\n",
            "2936    2008.11.05\n",
            "2937    2008.11.04\n",
            "2938    2008.11.03\n",
            "2939    2008.10.31\n",
            "2940    2008.10.30\n",
            "2941    2008.10.29\n",
            "2942    2008.10.28\n",
            "2943    2008.10.27\n",
            "2944    2008.10.24\n",
            "2945    2008.10.23\n",
            "2946    2008.10.22\n",
            "2947    2008.10.21\n",
            "2948    2008.10.20\n",
            "2949    2008.10.17\n",
            "Name: 날짜, dtype: object 2930    139500.0\n",
            "2931    146000.0\n",
            "2932    143000.0\n",
            "2933    135000.0\n",
            "2934    132000.0\n",
            "2935    135000.0\n",
            "2936    158500.0\n",
            "2937    155500.0\n",
            "2938    156500.0\n",
            "2939    148000.0\n",
            "2940    150000.0\n",
            "2941    130500.0\n",
            "2942    115000.0\n",
            "2943    101000.0\n",
            "2944    113500.0\n",
            "2945    133000.0\n",
            "2946    139000.0\n",
            "2947    163000.0\n",
            "2948    169000.0\n",
            "2949    180000.0\n",
            "Name: 종가, dtype: float64 2930     72816.0\n",
            "2931     71420.0\n",
            "2932    115479.0\n",
            "2933    176332.0\n",
            "2934    445985.0\n",
            "2935    117531.0\n",
            "2936     82211.0\n",
            "2937     46135.0\n",
            "2938     45926.0\n",
            "2939    109403.0\n",
            "2940     88537.0\n",
            "2941    165631.0\n",
            "2942    137312.0\n",
            "2943    213114.0\n",
            "2944    104083.0\n",
            "2945    155153.0\n",
            "2946    122643.0\n",
            "2947     94845.0\n",
            "2948    140375.0\n",
            "2949     68906.0\n",
            "Name: 거래량, dtype: float64\n"
          ],
          "name": "stdout"
        }
      ]
    },
    {
      "cell_type": "code",
      "metadata": {
        "id": "70qEXKb5sruV",
        "colab_type": "code",
        "colab": {
          "base_uri": "https://localhost:8080/",
          "height": 211
        },
        "outputId": "f00fa64b-4341-4ccc-9956-c09e810d50cf"
      },
      "source": [
        "#종가 최저치에 따른 거래량 시각화하기\n",
        "\n",
        "plt.rcParams['figure.figsize'] = (14,4)\n",
        "ax1 = cj_stock_all[2930:2950].plot(kind='line', x='날짜', y='종가', color ='Blue')\n",
        "ax2 = cj_stock_all[2930:2950].plot(kind='line', x='날짜',y='거래량', secondary_y=True, color='Green', ax=ax1)\n",
        "\n",
        "ax1.set_ylabel('종가')\n",
        "ax2.set_ylabel('거래량')\n",
        "\n",
        "plt.title('종가 최저치에 따른 거래량')\n",
        "plt.tight_layout()\n",
        "plt.show()"
      ],
      "execution_count": 17,
      "outputs": [
        {
          "output_type": "display_data",
          "data": {
            "image/png": "[encoded data removed]",
            "text/plain": [
              "<Figure size 1008x288 with 2 Axes>"
            ]
          },
          "metadata": {
            "tags": [],
            "needs_background": "light"
          }
        }
      ]
    },
    {
      "cell_type": "markdown",
      "metadata": {
        "id": "VXyY2IO8s0bV",
        "colab_type": "text"
      },
      "source": [
        "- 종가가 high - 거래량 low\n",
        "- 무슨 상관관계가 있는걸까..?!\n",
        "- 주식과 관련한 정보들 공부도 필요하다고 생각된다."
      ]
    },
    {
      "cell_type": "markdown",
      "metadata": {
        "id": "ZQ2ZmezNcKTe",
        "colab_type": "text"
      },
      "source": [
        "##### Special Thanks, 원영님 :)"
      ]
    },
    {
      "cell_type": "code",
      "metadata": {
        "id": "A1Kqo-mmcNOx",
        "colab_type": "code",
        "colab": {}
      },
      "source": [
        ""
      ],
      "execution_count": null,
      "outputs": []
    }
  ]
}