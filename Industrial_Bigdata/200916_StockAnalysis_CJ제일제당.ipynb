{
  "nbformat": 4,
  "nbformat_minor": 0,
  "metadata": {
    "kernelspec": {
      "display_name": "Python 3",
      "language": "python",
      "name": "python3"
    },
    "language_info": {
      "codemirror_mode": {
        "name": "ipython",
        "version": 3
      },
      "file_extension": ".py",
      "mimetype": "text/x-python",
      "name": "python",
      "nbconvert_exporter": "python",
      "pygments_lexer": "ipython3",
      "version": "3.7.9"
    },
    "colab": {
      "name": "200916_StockAnalysis_CJ제일제당.ipynb",
      "provenance": [],
      "collapsed_sections": [],
      "include_colab_link": true
    }
  },
  "cells": [
    {
      "cell_type": "markdown",
      "metadata": {
        "id": "view-in-github",
        "colab_type": "text"
      },
      "source": [
        "<a href=\"https://colab.research.google.com/github/leenago/Asiae_edu/blob/master/Industrial_Bigdata/200916_StockAnalysis_CJ%EC%A0%9C%EC%9D%BC%EC%A0%9C%EB%8B%B9.ipynb\" target=\"_parent\"><img src=\"https://colab.research.google.com/assets/colab-badge.svg\" alt=\"Open In Colab\"/></a>"
      ]
    },
    {
      "cell_type": "markdown",
      "metadata": {
        "id": "lEDpcaM5fSMz",
        "colab_type": "text"
      },
      "source": [
        "### 주가정보 획득 작업\n",
        "- 마케팅 포인트와 주가와의 상관관계 분석을 하고자 한다.\n",
        "- 식품기업 위주의 주가분석을 하기로 했다.\n",
        "- '네이버 증권' 페이지에 가서 관심있는 회사의 주가정보를 크롤링했다.(https://finance.naver.com/item/sise_day.nhn?code=097950&page=1)"
      ]
    },
    {
      "cell_type": "markdown",
      "metadata": {
        "id": "B220oSzDfQcO",
        "colab_type": "text"
      },
      "source": [
        "# 1.사전작업\n",
        "- 필요 패키지 설치하기"
      ]
    },
    {
      "cell_type": "code",
      "metadata": {
        "id": "Pkh7uz7WfdSd",
        "colab_type": "code",
        "colab": {
          "base_uri": "https://localhost:8080/",
          "height": 210
        },
        "outputId": "ca4af119-fe9c-4c68-ca25-3d64150a8b0d"
      },
      "source": [
        "%config InlineBackend.figure_format = 'retina'\n",
        "!apt -qq -y install fonts-nanum\n",
        "#맨 처음 실행 후\n",
        "#런타임 -> 런타임 다시시작 -> 이 셀은 실행하지 않고 밑셀부터 다시 시작"
      ],
      "execution_count": 1,
      "outputs": [
        {
          "output_type": "stream",
          "text": [
            "The following NEW packages will be installed:\n",
            "  fonts-nanum\n",
            "0 upgraded, 1 newly installed, 0 to remove and 11 not upgraded.\n",
            "Need to get 9,604 kB of archives.\n",
            "After this operation, 29.5 MB of additional disk space will be used.\n",
            "Selecting previously unselected package fonts-nanum.\n",
            "(Reading database ... 144676 files and directories currently installed.)\n",
            "Preparing to unpack .../fonts-nanum_20170925-1_all.deb ...\n",
            "Unpacking fonts-nanum (20170925-1) ...\n",
            "Setting up fonts-nanum (20170925-1) ...\n",
            "Processing triggers for fontconfig (2.12.6-0ubuntu2) ...\n"
          ],
          "name": "stdout"
        }
      ]
    },
    {
      "cell_type": "code",
      "metadata": {
        "id": "lowJVuLFLcXd",
        "colab_type": "code",
        "colab": {}
      },
      "source": [
        "import pandas as pd\n",
        "import seaborn as sns\n",
        "import matplotlib as mpl\n",
        "import matplotlib.pyplot as plt\n",
        "import matplotlib.font_manager as fm\n",
        "import matplotlib.gridspec as gridspec\n",
        "\n",
        "fontpath = '/usr/share/fonts/truetype/nanum/NanumBarunGothic.ttf'\n",
        "font = fm.FontProperties(fname=fontpath, size=9)\n",
        "plt.rc('font', family='NanumBarunGothic') \n",
        "mpl.font_manager._rebuild()\n",
        "mpl.pyplot.rc('font', family='NanumGothic')\n",
        "fm._rebuild()\n",
        "\n",
        "\n",
        "import requests\n",
        "from bs4 import BeautifulSoup as bs"
      ],
      "execution_count": 86,
      "outputs": []
    },
    {
      "cell_type": "code",
      "metadata": {
        "id": "1UPz13Df3p0H",
        "colab_type": "code",
        "colab": {
          "base_uri": "https://localhost:8080/",
          "height": 230
        },
        "outputId": "f893017f-842b-439f-84bc-50b98e52308e"
      },
      "source": [
        "!pip install mpl_finance"
      ],
      "execution_count": 9,
      "outputs": [
        {
          "output_type": "stream",
          "text": [
            "Collecting mpl_finance\n",
            "  Downloading https://files.pythonhosted.org/packages/9d/de/8169ea4403d6cb8322e74cc48b6834d1dfbed81931d17f1f26b2140160d8/mpl_finance-0.10.1-py3-none-any.whl\n",
            "Requirement already satisfied: matplotlib in /usr/local/lib/python3.6/dist-packages (from mpl_finance) (3.2.2)\n",
            "Requirement already satisfied: cycler>=0.10 in /usr/local/lib/python3.6/dist-packages (from matplotlib->mpl_finance) (0.10.0)\n",
            "Requirement already satisfied: numpy>=1.11 in /usr/local/lib/python3.6/dist-packages (from matplotlib->mpl_finance) (1.18.5)\n",
            "Requirement already satisfied: pyparsing!=2.0.4,!=2.1.2,!=2.1.6,>=2.0.1 in /usr/local/lib/python3.6/dist-packages (from matplotlib->mpl_finance) (2.4.7)\n",
            "Requirement already satisfied: kiwisolver>=1.0.1 in /usr/local/lib/python3.6/dist-packages (from matplotlib->mpl_finance) (1.2.0)\n",
            "Requirement already satisfied: python-dateutil>=2.1 in /usr/local/lib/python3.6/dist-packages (from matplotlib->mpl_finance) (2.8.1)\n",
            "Requirement already satisfied: six in /usr/local/lib/python3.6/dist-packages (from cycler>=0.10->matplotlib->mpl_finance) (1.15.0)\n",
            "Installing collected packages: mpl-finance\n",
            "Successfully installed mpl-finance-0.10.1\n"
          ],
          "name": "stdout"
        }
      ]
    },
    {
      "cell_type": "markdown",
      "metadata": {
        "id": "8ZbmYro5fkCR",
        "colab_type": "text"
      },
      "source": [
        "#2.네이버 증권 웹크롤링\n",
        "- CJ제일제당 코드: 097950"
      ]
    },
    {
      "cell_type": "code",
      "metadata": {
        "id": "xJ9_X_83gLdH",
        "colab_type": "code",
        "colab": {}
      },
      "source": [
        "def one_page_crawling(code,page):\n",
        "  url = 'https://finance.naver.com/item/sise_day.nhn?code={code}&page={page}'.format(code=code, page=page)\n",
        "  df = pd.read_html(url)[0]\n",
        "  df.dropna(inplace=True)\n",
        "  #dropna: removing missing values\n",
        "  #inplace: if True, do operation inplace and return None\n",
        "  df['날짜'] = df['날짜'].apply(lambda x : str(x).replace('.',''))\n",
        "  df['날짜'] = df['날짜'].astype('int')\n",
        "  df.columns = ['DATE','CLOSEP','COMPARE','OPENP','HIGHP','LOWP','VOL']\n",
        "  return df\n"
      ],
      "execution_count": 18,
      "outputs": []
    },
    {
      "cell_type": "code",
      "metadata": {
        "id": "Fg6o0a1OmiCI",
        "colab_type": "code",
        "colab": {
          "base_uri": "https://localhost:8080/",
          "height": 343
        },
        "outputId": "aa6be11a-1321-48b7-9519-9bca63961099"
      },
      "source": [
        "one_page_crawling('097950',1)"
      ],
      "execution_count": 19,
      "outputs": [
        {
          "output_type": "execute_result",
          "data": {
            "text/html": [
              "<div>\n",
              "<style scoped>\n",
              "    .dataframe tbody tr th:only-of-type {\n",
              "        vertical-align: middle;\n",
              "    }\n",
              "\n",
              "    .dataframe tbody tr th {\n",
              "        vertical-align: top;\n",
              "    }\n",
              "\n",
              "    .dataframe thead th {\n",
              "        text-align: right;\n",
              "    }\n",
              "</style>\n",
              "<table border=\"1\" class=\"dataframe\">\n",
              "  <thead>\n",
              "    <tr style=\"text-align: right;\">\n",
              "      <th></th>\n",
              "      <th>DATE</th>\n",
              "      <th>CLOSEP</th>\n",
              "      <th>COMPARE</th>\n",
              "      <th>OPENP</th>\n",
              "      <th>HIGHP</th>\n",
              "      <th>LOWP</th>\n",
              "      <th>VOL</th>\n",
              "    </tr>\n",
              "  </thead>\n",
              "  <tbody>\n",
              "    <tr>\n",
              "      <th>1</th>\n",
              "      <td>20200917</td>\n",
              "      <td>387000.0</td>\n",
              "      <td>6000.0</td>\n",
              "      <td>393000.0</td>\n",
              "      <td>396000.0</td>\n",
              "      <td>386000.0</td>\n",
              "      <td>51334.0</td>\n",
              "    </tr>\n",
              "    <tr>\n",
              "      <th>2</th>\n",
              "      <td>20200916</td>\n",
              "      <td>393000.0</td>\n",
              "      <td>1000.0</td>\n",
              "      <td>395000.0</td>\n",
              "      <td>402000.0</td>\n",
              "      <td>392500.0</td>\n",
              "      <td>48945.0</td>\n",
              "    </tr>\n",
              "    <tr>\n",
              "      <th>3</th>\n",
              "      <td>20200915</td>\n",
              "      <td>394000.0</td>\n",
              "      <td>2000.0</td>\n",
              "      <td>392000.0</td>\n",
              "      <td>396000.0</td>\n",
              "      <td>388000.0</td>\n",
              "      <td>47654.0</td>\n",
              "    </tr>\n",
              "    <tr>\n",
              "      <th>4</th>\n",
              "      <td>20200914</td>\n",
              "      <td>392000.0</td>\n",
              "      <td>11500.0</td>\n",
              "      <td>403500.0</td>\n",
              "      <td>404000.0</td>\n",
              "      <td>388000.0</td>\n",
              "      <td>100636.0</td>\n",
              "    </tr>\n",
              "    <tr>\n",
              "      <th>5</th>\n",
              "      <td>20200911</td>\n",
              "      <td>403500.0</td>\n",
              "      <td>2000.0</td>\n",
              "      <td>401500.0</td>\n",
              "      <td>416500.0</td>\n",
              "      <td>399500.0</td>\n",
              "      <td>108033.0</td>\n",
              "    </tr>\n",
              "    <tr>\n",
              "      <th>9</th>\n",
              "      <td>20200910</td>\n",
              "      <td>401500.0</td>\n",
              "      <td>26000.0</td>\n",
              "      <td>381500.0</td>\n",
              "      <td>404500.0</td>\n",
              "      <td>380000.0</td>\n",
              "      <td>172970.0</td>\n",
              "    </tr>\n",
              "    <tr>\n",
              "      <th>10</th>\n",
              "      <td>20200909</td>\n",
              "      <td>375500.0</td>\n",
              "      <td>14000.0</td>\n",
              "      <td>385000.0</td>\n",
              "      <td>388500.0</td>\n",
              "      <td>373000.0</td>\n",
              "      <td>138771.0</td>\n",
              "    </tr>\n",
              "    <tr>\n",
              "      <th>11</th>\n",
              "      <td>20200908</td>\n",
              "      <td>389500.0</td>\n",
              "      <td>0.0</td>\n",
              "      <td>392500.0</td>\n",
              "      <td>396000.0</td>\n",
              "      <td>389500.0</td>\n",
              "      <td>60046.0</td>\n",
              "    </tr>\n",
              "    <tr>\n",
              "      <th>12</th>\n",
              "      <td>20200907</td>\n",
              "      <td>389500.0</td>\n",
              "      <td>7000.0</td>\n",
              "      <td>399000.0</td>\n",
              "      <td>399500.0</td>\n",
              "      <td>387500.0</td>\n",
              "      <td>72911.0</td>\n",
              "    </tr>\n",
              "    <tr>\n",
              "      <th>13</th>\n",
              "      <td>20200904</td>\n",
              "      <td>396500.0</td>\n",
              "      <td>5000.0</td>\n",
              "      <td>394500.0</td>\n",
              "      <td>400000.0</td>\n",
              "      <td>393000.0</td>\n",
              "      <td>69718.0</td>\n",
              "    </tr>\n",
              "  </tbody>\n",
              "</table>\n",
              "</div>"
            ],
            "text/plain": [
              "        DATE    CLOSEP  COMPARE     OPENP     HIGHP      LOWP       VOL\n",
              "1   20200917  387000.0   6000.0  393000.0  396000.0  386000.0   51334.0\n",
              "2   20200916  393000.0   1000.0  395000.0  402000.0  392500.0   48945.0\n",
              "3   20200915  394000.0   2000.0  392000.0  396000.0  388000.0   47654.0\n",
              "4   20200914  392000.0  11500.0  403500.0  404000.0  388000.0  100636.0\n",
              "5   20200911  403500.0   2000.0  401500.0  416500.0  399500.0  108033.0\n",
              "9   20200910  401500.0  26000.0  381500.0  404500.0  380000.0  172970.0\n",
              "10  20200909  375500.0  14000.0  385000.0  388500.0  373000.0  138771.0\n",
              "11  20200908  389500.0      0.0  392500.0  396000.0  389500.0   60046.0\n",
              "12  20200907  389500.0   7000.0  399000.0  399500.0  387500.0   72911.0\n",
              "13  20200904  396500.0   5000.0  394500.0  400000.0  393000.0   69718.0"
            ]
          },
          "metadata": {
            "tags": []
          },
          "execution_count": 19
        }
      ]
    },
    {
      "cell_type": "code",
      "metadata": {
        "id": "nhIzyifIfvlJ",
        "colab_type": "code",
        "colab": {}
      },
      "source": [
        "def sev_page_crawling(code, page):\n",
        "  url = 'https://finance.naver.com/item/sise_day.nhn?code={code}&page={page}'.format(code=code, page=page)\n",
        "  df = pd.DataFrame() #empty DataFrame 만들어주기\n",
        "  for i in range(1,page+1):\n",
        "    new_df = one_page_crawling(code,i)\n",
        "    df = pd.concat([df,new_df], axis=0)\n",
        "    #Concatenate pandas objects along a particular axis with optional set logic along the other axes.\n",
        "    #axis : {0/'index', 1/'columns'}, default 0: The axis to concatenate along.\n",
        "  \n",
        "  df.dropna(inplace=True)\n",
        "  df.reset_index(inplace=True, drop=True)\n",
        "  #Reset the index, or a level of it.\n",
        "  #inplace: Modify the DataFrame in place (do not create a new object).\n",
        "  #drop: Do not try to insert index into dataframe columns. This resets the index to the default integer index.\n",
        "\n",
        "  return df\n"
      ],
      "execution_count": 20,
      "outputs": []
    },
    {
      "cell_type": "code",
      "metadata": {
        "id": "9fEs3r8EhI7g",
        "colab_type": "code",
        "colab": {
          "base_uri": "https://localhost:8080/",
          "height": 402
        },
        "outputId": "ef8eeb83-87c1-435b-884a-699998940562"
      },
      "source": [
        "CJ_cj = sev_page_crawling('097950',321)\n",
        "CJ_cj"
      ],
      "execution_count": 21,
      "outputs": [
        {
          "output_type": "execute_result",
          "data": {
            "text/html": [
              "<div>\n",
              "<style scoped>\n",
              "    .dataframe tbody tr th:only-of-type {\n",
              "        vertical-align: middle;\n",
              "    }\n",
              "\n",
              "    .dataframe tbody tr th {\n",
              "        vertical-align: top;\n",
              "    }\n",
              "\n",
              "    .dataframe thead th {\n",
              "        text-align: right;\n",
              "    }\n",
              "</style>\n",
              "<table border=\"1\" class=\"dataframe\">\n",
              "  <thead>\n",
              "    <tr style=\"text-align: right;\">\n",
              "      <th></th>\n",
              "      <th>DATE</th>\n",
              "      <th>CLOSEP</th>\n",
              "      <th>COMPARE</th>\n",
              "      <th>OPENP</th>\n",
              "      <th>HIGHP</th>\n",
              "      <th>LOWP</th>\n",
              "      <th>VOL</th>\n",
              "    </tr>\n",
              "  </thead>\n",
              "  <tbody>\n",
              "    <tr>\n",
              "      <th>0</th>\n",
              "      <td>20200917</td>\n",
              "      <td>387000.0</td>\n",
              "      <td>6000.0</td>\n",
              "      <td>393000.0</td>\n",
              "      <td>396000.0</td>\n",
              "      <td>386000.0</td>\n",
              "      <td>51334.0</td>\n",
              "    </tr>\n",
              "    <tr>\n",
              "      <th>1</th>\n",
              "      <td>20200916</td>\n",
              "      <td>393000.0</td>\n",
              "      <td>1000.0</td>\n",
              "      <td>395000.0</td>\n",
              "      <td>402000.0</td>\n",
              "      <td>392500.0</td>\n",
              "      <td>48945.0</td>\n",
              "    </tr>\n",
              "    <tr>\n",
              "      <th>2</th>\n",
              "      <td>20200915</td>\n",
              "      <td>394000.0</td>\n",
              "      <td>2000.0</td>\n",
              "      <td>392000.0</td>\n",
              "      <td>396000.0</td>\n",
              "      <td>388000.0</td>\n",
              "      <td>47654.0</td>\n",
              "    </tr>\n",
              "    <tr>\n",
              "      <th>3</th>\n",
              "      <td>20200914</td>\n",
              "      <td>392000.0</td>\n",
              "      <td>11500.0</td>\n",
              "      <td>403500.0</td>\n",
              "      <td>404000.0</td>\n",
              "      <td>388000.0</td>\n",
              "      <td>100636.0</td>\n",
              "    </tr>\n",
              "    <tr>\n",
              "      <th>4</th>\n",
              "      <td>20200911</td>\n",
              "      <td>403500.0</td>\n",
              "      <td>2000.0</td>\n",
              "      <td>401500.0</td>\n",
              "      <td>416500.0</td>\n",
              "      <td>399500.0</td>\n",
              "      <td>108033.0</td>\n",
              "    </tr>\n",
              "    <tr>\n",
              "      <th>...</th>\n",
              "      <td>...</td>\n",
              "      <td>...</td>\n",
              "      <td>...</td>\n",
              "      <td>...</td>\n",
              "      <td>...</td>\n",
              "      <td>...</td>\n",
              "      <td>...</td>\n",
              "    </tr>\n",
              "    <tr>\n",
              "      <th>3204</th>\n",
              "      <td>20071005</td>\n",
              "      <td>252500.0</td>\n",
              "      <td>2500.0</td>\n",
              "      <td>255000.0</td>\n",
              "      <td>257000.0</td>\n",
              "      <td>245000.0</td>\n",
              "      <td>112563.0</td>\n",
              "    </tr>\n",
              "    <tr>\n",
              "      <th>3205</th>\n",
              "      <td>20071004</td>\n",
              "      <td>255000.0</td>\n",
              "      <td>10000.0</td>\n",
              "      <td>247000.0</td>\n",
              "      <td>263000.0</td>\n",
              "      <td>241000.0</td>\n",
              "      <td>221795.0</td>\n",
              "    </tr>\n",
              "    <tr>\n",
              "      <th>3206</th>\n",
              "      <td>20071002</td>\n",
              "      <td>245000.0</td>\n",
              "      <td>25000.0</td>\n",
              "      <td>229000.0</td>\n",
              "      <td>247500.0</td>\n",
              "      <td>226000.0</td>\n",
              "      <td>239345.0</td>\n",
              "    </tr>\n",
              "    <tr>\n",
              "      <th>3207</th>\n",
              "      <td>20071001</td>\n",
              "      <td>220000.0</td>\n",
              "      <td>10000.0</td>\n",
              "      <td>230000.0</td>\n",
              "      <td>233000.0</td>\n",
              "      <td>220000.0</td>\n",
              "      <td>267416.0</td>\n",
              "    </tr>\n",
              "    <tr>\n",
              "      <th>3208</th>\n",
              "      <td>20070928</td>\n",
              "      <td>230000.0</td>\n",
              "      <td>9000.0</td>\n",
              "      <td>221000.0</td>\n",
              "      <td>254000.0</td>\n",
              "      <td>221000.0</td>\n",
              "      <td>509746.0</td>\n",
              "    </tr>\n",
              "  </tbody>\n",
              "</table>\n",
              "<p>3209 rows × 7 columns</p>\n",
              "</div>"
            ],
            "text/plain": [
              "          DATE    CLOSEP  COMPARE     OPENP     HIGHP      LOWP       VOL\n",
              "0     20200917  387000.0   6000.0  393000.0  396000.0  386000.0   51334.0\n",
              "1     20200916  393000.0   1000.0  395000.0  402000.0  392500.0   48945.0\n",
              "2     20200915  394000.0   2000.0  392000.0  396000.0  388000.0   47654.0\n",
              "3     20200914  392000.0  11500.0  403500.0  404000.0  388000.0  100636.0\n",
              "4     20200911  403500.0   2000.0  401500.0  416500.0  399500.0  108033.0\n",
              "...        ...       ...      ...       ...       ...       ...       ...\n",
              "3204  20071005  252500.0   2500.0  255000.0  257000.0  245000.0  112563.0\n",
              "3205  20071004  255000.0  10000.0  247000.0  263000.0  241000.0  221795.0\n",
              "3206  20071002  245000.0  25000.0  229000.0  247500.0  226000.0  239345.0\n",
              "3207  20071001  220000.0  10000.0  230000.0  233000.0  220000.0  267416.0\n",
              "3208  20070928  230000.0   9000.0  221000.0  254000.0  221000.0  509746.0\n",
              "\n",
              "[3209 rows x 7 columns]"
            ]
          },
          "metadata": {
            "tags": []
          },
          "execution_count": 21
        }
      ]
    },
    {
      "cell_type": "markdown",
      "metadata": {
        "id": "gyHSZyLbkWW5",
        "colab_type": "text"
      },
      "source": [
        "#3.BigQuery와 연동"
      ]
    },
    {
      "cell_type": "code",
      "metadata": {
        "id": "vywnmI1MkY3-",
        "colab_type": "code",
        "colab": {
          "base_uri": "https://localhost:8080/",
          "height": 34
        },
        "outputId": "6a72e0b8-18e8-4195-a8e2-2e1290eb5ea7"
      },
      "source": [
        "from pandas.io import gbq\n",
        "CJ_cj.to_gbq(destination_table = 'NaverStock.CJ_cj',\n",
        "             project_id='stockcj',\n",
        "             if_exists='replace')"
      ],
      "execution_count": 22,
      "outputs": [
        {
          "output_type": "stream",
          "text": [
            "1it [00:03,  3.16s/it]\n"
          ],
          "name": "stderr"
        }
      ]
    },
    {
      "cell_type": "markdown",
      "metadata": {
        "id": "y_-93MSdl1bz",
        "colab_type": "text"
      },
      "source": [
        "# 4.주가 분석"
      ]
    },
    {
      "cell_type": "markdown",
      "metadata": {
        "id": "4uNjQ2jw21Kv",
        "colab_type": "text"
      },
      "source": [
        "## 1) 전체 주가 시각화"
      ]
    },
    {
      "cell_type": "code",
      "metadata": {
        "id": "pzd7in_A246M",
        "colab_type": "code",
        "colab": {}
      },
      "source": [
        "from pandas.io import gbq\n",
        "\n",
        "project_id = 'stockcj'\n",
        "sql = \"\"\"SELECT DATE,OPENP,CLOSEP,HIGHP,LOWP,VOL\n",
        "FROM `NaverStock.CJ_cj`\n",
        "ORDER BY DATE desc\"\"\"\n",
        "\n",
        "CJ_cj = pd.read_gbq(sql, project_id = project_id, dialect= 'standard')"
      ],
      "execution_count": 27,
      "outputs": []
    },
    {
      "cell_type": "code",
      "metadata": {
        "id": "l4IrRA98LcXg",
        "colab_type": "code",
        "colab": {
          "base_uri": "https://localhost:8080/",
          "height": 122
        },
        "outputId": "b24d93e0-26b6-4509-cf0b-b6c2027be7f3"
      },
      "source": [
        "print(CJ_cj[CJ_cj['CLOSEP']==CJ_cj['CLOSEP'].max()])\n",
        "print('\\n')\n",
        "print(CJ_cj[CJ_cj[\"CLOSEP\"]==CJ_cj['CLOSEP'].min()])"
      ],
      "execution_count": 30,
      "outputs": [
        {
          "output_type": "stream",
          "text": [
            "          DATE     OPENP    CLOSEP     HIGHP      LOWP      VOL\n",
            "1311  20150521  448000.0  458500.0  460500.0  446000.0  47131.0\n",
            "\n",
            "\n",
            "          DATE     OPENP    CLOSEP     HIGHP     LOWP       VOL\n",
            "2943  20081027  105500.0  101000.0  113000.0  96500.0  213114.0\n"
          ],
          "name": "stdout"
        }
      ]
    },
    {
      "cell_type": "code",
      "metadata": {
        "id": "xwkDzVxTLcXj",
        "colab_type": "code",
        "colab": {
          "base_uri": "https://localhost:8080/",
          "height": 219
        },
        "outputId": "07772b27-6805-4923-ee74-59a3e3a911da"
      },
      "source": [
        "CJ_cj['DATE']=CJ_cj['DATE'].astype('str')\n",
        "plt.rcParams['figure.figsize'] = (14,4)\n",
        "ax1 = CJ_cj.plot(kind='line', x='DATE', y='CLOSEP',color='Blue')\n",
        "ax2 = CJ_cj.plot(kind='line', x='DATE', y='OPENP', color='Orange', ax=ax1)\n",
        "ax1.set_ylabel('종가')\n",
        "ax2.set_ylabel('시가')\n",
        "\n",
        "plt.tight_layout()\n",
        "plt.show()"
      ],
      "execution_count": 36,
      "outputs": [
        {
          "output_type": "display_data",
          "data": {
            "image/png": "[encoded data removed]",
            "text/plain": [
              "<Figure size 1008x288 with 1 Axes>"
            ]
          },
          "metadata": {
            "tags": [],
            "needs_background": "light"
          }
        }
      ]
    },
    {
      "cell_type": "markdown",
      "metadata": {
        "id": "Zuu2Vh6T_lQD",
        "colab_type": "text"
      },
      "source": [
        "- 2020년에 보이는 폭락의 요인은 코로나일 것이다.\n",
        "- 코로나 이후에 보이는 가파른 상승세는, 사람들이 집에 있는 시간이 늘어남에 따라 외식보다 HMR식을 구매하는 경향이 생김. 이에 따라 매출이 늘어 이것이 주가에도 영향을 미쳤을 거라 예상할 수 있다.\n",
        "\n",
        "- 2008년 8월 즈음에 나타나는 폭락 추세, 증가요인 그리고 2012년과 2014년 사이에 보이는 저 V자 반등 구간도 살펴볼 필요가 있다."
      ]
    },
    {
      "cell_type": "markdown",
      "metadata": {
        "id": "9Z9xmh6amgok",
        "colab_type": "text"
      },
      "source": [
        "## 2) 이동평균선 구하기\n",
        "(5일물/30일물도 이렇게 구해보면...!)\n",
        "\n",
        "5일 평균이 오르고 있으면 상승세, 내리고 있으면 하락세\n",
        "마케팅 요소가 괜찮았다면 기울기갸 양수일 것\n",
        "네이버트렌드로 자료를 긁으면 검색양에 따른 분포를 알 수 있음\n",
        "\n",
        "- 주가 기술분석\n",
        "- 단기 이평선(5일)과 장기 이평선(30일) 이평선을 설정 \n",
        "- 장단기 이평선을 분석하여\n",
        "  - 골든크로스 (단기 이평선이 장기이평선을 아래에서 위로 통과)\n",
        "  - 데드크로스 (단기 이평선이 장기이평선을 위에서 아래로 통과)\n",
        "\n",
        "- 마케팅의 시장평가 지점을 설정"
      ]
    },
    {
      "cell_type": "code",
      "metadata": {
        "id": "HhscFj9nA98p",
        "colab_type": "code",
        "colab": {
          "base_uri": "https://localhost:8080/",
          "height": 195
        },
        "outputId": "20df1879-ce80-480c-dd46-0cc0aa2c38cc"
      },
      "source": [
        "project_id = 'stockcj'\n",
        "sql = \"\"\"SELECT DATE,OPENP,CLOSEP,HIGHP,LOWP,VOL\n",
        "FROM `NaverStock.CJ_cj`\n",
        "WHERE DATE>20200101\n",
        "ORDER BY DATE desc\n",
        "LIMIT 250\"\"\"\n",
        "\n",
        "CJ_cj = pd.read_gbq(sql, project_id = project_id, dialect='standard')\n",
        "CJ_cj.head()"
      ],
      "execution_count": 38,
      "outputs": [
        {
          "output_type": "execute_result",
          "data": {
            "text/html": [
              "<div>\n",
              "<style scoped>\n",
              "    .dataframe tbody tr th:only-of-type {\n",
              "        vertical-align: middle;\n",
              "    }\n",
              "\n",
              "    .dataframe tbody tr th {\n",
              "        vertical-align: top;\n",
              "    }\n",
              "\n",
              "    .dataframe thead th {\n",
              "        text-align: right;\n",
              "    }\n",
              "</style>\n",
              "<table border=\"1\" class=\"dataframe\">\n",
              "  <thead>\n",
              "    <tr style=\"text-align: right;\">\n",
              "      <th></th>\n",
              "      <th>DATE</th>\n",
              "      <th>OPENP</th>\n",
              "      <th>CLOSEP</th>\n",
              "      <th>HIGHP</th>\n",
              "      <th>LOWP</th>\n",
              "      <th>VOL</th>\n",
              "    </tr>\n",
              "  </thead>\n",
              "  <tbody>\n",
              "    <tr>\n",
              "      <th>0</th>\n",
              "      <td>20200917</td>\n",
              "      <td>393000.0</td>\n",
              "      <td>387000.0</td>\n",
              "      <td>396000.0</td>\n",
              "      <td>386000.0</td>\n",
              "      <td>51334.0</td>\n",
              "    </tr>\n",
              "    <tr>\n",
              "      <th>1</th>\n",
              "      <td>20200916</td>\n",
              "      <td>395000.0</td>\n",
              "      <td>393000.0</td>\n",
              "      <td>402000.0</td>\n",
              "      <td>392500.0</td>\n",
              "      <td>48945.0</td>\n",
              "    </tr>\n",
              "    <tr>\n",
              "      <th>2</th>\n",
              "      <td>20200915</td>\n",
              "      <td>392000.0</td>\n",
              "      <td>394000.0</td>\n",
              "      <td>396000.0</td>\n",
              "      <td>388000.0</td>\n",
              "      <td>47654.0</td>\n",
              "    </tr>\n",
              "    <tr>\n",
              "      <th>3</th>\n",
              "      <td>20200914</td>\n",
              "      <td>403500.0</td>\n",
              "      <td>392000.0</td>\n",
              "      <td>404000.0</td>\n",
              "      <td>388000.0</td>\n",
              "      <td>100636.0</td>\n",
              "    </tr>\n",
              "    <tr>\n",
              "      <th>4</th>\n",
              "      <td>20200911</td>\n",
              "      <td>401500.0</td>\n",
              "      <td>403500.0</td>\n",
              "      <td>416500.0</td>\n",
              "      <td>399500.0</td>\n",
              "      <td>108033.0</td>\n",
              "    </tr>\n",
              "  </tbody>\n",
              "</table>\n",
              "</div>"
            ],
            "text/plain": [
              "       DATE     OPENP    CLOSEP     HIGHP      LOWP       VOL\n",
              "0  20200917  393000.0  387000.0  396000.0  386000.0   51334.0\n",
              "1  20200916  395000.0  393000.0  402000.0  392500.0   48945.0\n",
              "2  20200915  392000.0  394000.0  396000.0  388000.0   47654.0\n",
              "3  20200914  403500.0  392000.0  404000.0  388000.0  100636.0\n",
              "4  20200911  401500.0  403500.0  416500.0  399500.0  108033.0"
            ]
          },
          "metadata": {
            "tags": []
          },
          "execution_count": 38
        }
      ]
    },
    {
      "cell_type": "code",
      "metadata": {
        "id": "_QGfdMpNmYFD",
        "colab_type": "code",
        "colab": {}
      },
      "source": [
        "#이동평균선 함수 만들기\n",
        "import numpy as np\n",
        "\n",
        "def makeMV(baseday=5, basedata = CJ_cj['CLOSEP']):\n",
        "  res = []\n",
        "\n",
        "  #초기화 하기\n",
        "  for i in range(baseday-1):\n",
        "    res.append(0)\n",
        "\n",
        "  #이동평균데이터 만들기\n",
        "  n = len(basedata) - (baseday- 1)\n",
        "  print(\"총 데이터 수: \", len(basedata),'/', '초기화 안되고 채워야 할 부분: ', n)\n",
        "\n",
        "  for i in range(n):\n",
        "    mvdata = np.average(basedata[i:i+baseday]) #5일동안의 평균 지점을 찍은 것, 5일차부터 0부터 4까지 (5개) 평균점을 이은 것\n",
        "    #주가변동에 요인들이 있기 때문에, 내가 사용한 마케팅 요인들이 며칠이나 가는지, 그 파워의 영향을 어떻게 알아보는지(by using 네이버 검색)\n",
        "    res.append(mvdata)\n",
        "  return(res)"
      ],
      "execution_count": 45,
      "outputs": []
    },
    {
      "cell_type": "code",
      "metadata": {
        "id": "xxCqCbphrlF_",
        "colab_type": "code",
        "colab": {
          "base_uri": "https://localhost:8080/",
          "height": 230
        },
        "outputId": "a84724d8-d071-41f8-f3e2-8afe3dc6972c"
      },
      "source": [
        "CJ_cj['MV5'] = makeMV(5)\n",
        "CJ_cj['MV30'] = makeMV(30)\n",
        "CJ_cj.head()"
      ],
      "execution_count": 46,
      "outputs": [
        {
          "output_type": "stream",
          "text": [
            "총 데이터 수:  179 / 초기화 안되고 채워야 할 부분:  175\n",
            "총 데이터 수:  179 / 초기화 안되고 채워야 할 부분:  150\n"
          ],
          "name": "stdout"
        },
        {
          "output_type": "execute_result",
          "data": {
            "text/html": [
              "<div>\n",
              "<style scoped>\n",
              "    .dataframe tbody tr th:only-of-type {\n",
              "        vertical-align: middle;\n",
              "    }\n",
              "\n",
              "    .dataframe tbody tr th {\n",
              "        vertical-align: top;\n",
              "    }\n",
              "\n",
              "    .dataframe thead th {\n",
              "        text-align: right;\n",
              "    }\n",
              "</style>\n",
              "<table border=\"1\" class=\"dataframe\">\n",
              "  <thead>\n",
              "    <tr style=\"text-align: right;\">\n",
              "      <th></th>\n",
              "      <th>DATE</th>\n",
              "      <th>OPENP</th>\n",
              "      <th>CLOSEP</th>\n",
              "      <th>HIGHP</th>\n",
              "      <th>LOWP</th>\n",
              "      <th>VOL</th>\n",
              "      <th>MV5</th>\n",
              "      <th>MV30</th>\n",
              "    </tr>\n",
              "  </thead>\n",
              "  <tbody>\n",
              "    <tr>\n",
              "      <th>0</th>\n",
              "      <td>20200917</td>\n",
              "      <td>393000.0</td>\n",
              "      <td>387000.0</td>\n",
              "      <td>396000.0</td>\n",
              "      <td>386000.0</td>\n",
              "      <td>51334.0</td>\n",
              "      <td>0.0</td>\n",
              "      <td>0.0</td>\n",
              "    </tr>\n",
              "    <tr>\n",
              "      <th>1</th>\n",
              "      <td>20200916</td>\n",
              "      <td>395000.0</td>\n",
              "      <td>393000.0</td>\n",
              "      <td>402000.0</td>\n",
              "      <td>392500.0</td>\n",
              "      <td>48945.0</td>\n",
              "      <td>0.0</td>\n",
              "      <td>0.0</td>\n",
              "    </tr>\n",
              "    <tr>\n",
              "      <th>2</th>\n",
              "      <td>20200915</td>\n",
              "      <td>392000.0</td>\n",
              "      <td>394000.0</td>\n",
              "      <td>396000.0</td>\n",
              "      <td>388000.0</td>\n",
              "      <td>47654.0</td>\n",
              "      <td>0.0</td>\n",
              "      <td>0.0</td>\n",
              "    </tr>\n",
              "    <tr>\n",
              "      <th>3</th>\n",
              "      <td>20200914</td>\n",
              "      <td>403500.0</td>\n",
              "      <td>392000.0</td>\n",
              "      <td>404000.0</td>\n",
              "      <td>388000.0</td>\n",
              "      <td>100636.0</td>\n",
              "      <td>0.0</td>\n",
              "      <td>0.0</td>\n",
              "    </tr>\n",
              "    <tr>\n",
              "      <th>4</th>\n",
              "      <td>20200911</td>\n",
              "      <td>401500.0</td>\n",
              "      <td>403500.0</td>\n",
              "      <td>416500.0</td>\n",
              "      <td>399500.0</td>\n",
              "      <td>108033.0</td>\n",
              "      <td>393900.0</td>\n",
              "      <td>0.0</td>\n",
              "    </tr>\n",
              "  </tbody>\n",
              "</table>\n",
              "</div>"
            ],
            "text/plain": [
              "       DATE     OPENP    CLOSEP     HIGHP      LOWP       VOL       MV5  MV30\n",
              "0  20200917  393000.0  387000.0  396000.0  386000.0   51334.0       0.0   0.0\n",
              "1  20200916  395000.0  393000.0  402000.0  392500.0   48945.0       0.0   0.0\n",
              "2  20200915  392000.0  394000.0  396000.0  388000.0   47654.0       0.0   0.0\n",
              "3  20200914  403500.0  392000.0  404000.0  388000.0  100636.0       0.0   0.0\n",
              "4  20200911  401500.0  403500.0  416500.0  399500.0  108033.0  393900.0   0.0"
            ]
          },
          "metadata": {
            "tags": []
          },
          "execution_count": 46
        }
      ]
    },
    {
      "cell_type": "code",
      "metadata": {
        "id": "WEb5SlcAE4YV",
        "colab_type": "code",
        "colab": {
          "base_uri": "https://localhost:8080/",
          "height": 241
        },
        "outputId": "fba41ce1-adad-4ad5-82fd-3562cbb6818e"
      },
      "source": [
        "CJ_cj['DATE'] = CJ_cj['DATE'].astype('str')\n",
        "ax1 = CJ_cj.plot(kind='line', x='DATE', y='CLOSEP', color='Blue')\n",
        "ax2 = CJ_cj.plot(kind='line', x='DATE', y='MV5', color = 'Green', ax=ax1)\n",
        "plt.legend()\n",
        "plt.show()"
      ],
      "execution_count": 50,
      "outputs": [
        {
          "output_type": "display_data",
          "data": {
            "image/png": "[encoded data removed]",
            "text/plain": [
              "<Figure size 1008x288 with 1 Axes>"
            ]
          },
          "metadata": {
            "tags": [],
            "needs_background": "light"
          }
        }
      ]
    },
    {
      "cell_type": "markdown",
      "metadata": {
        "id": "KtaaPrDwFX2r",
        "colab_type": "text"
      },
      "source": [
        "- 주가의 이동평균을 5일치로 잡았기 때문에, 5일 뒤에 그 평균들이 기록됨을 알 수 있다."
      ]
    },
    {
      "cell_type": "markdown",
      "metadata": {
        "id": "uFiiF9o9CQQ6",
        "colab_type": "text"
      },
      "source": [
        "- **CJ제일제당을 구해봤으니, 오뚜기를 알아보자"
      ]
    },
    {
      "cell_type": "markdown",
      "metadata": {
        "id": "fZCd484u_2Ag",
        "colab_type": "text"
      },
      "source": [
        "- 경쟁자 분석\n",
        "- 동종 유사주가의 경쟁사 분석을 통해 시장기준 주가 분석"
      ]
    },
    {
      "cell_type": "markdown",
      "metadata": {
        "id": "uoD7iHU8ysQm",
        "colab_type": "text"
      },
      "source": [
        "\n",
        "\n",
        "---\n",
        "- 이렇게 함으로써 동종업계 대비 성장동력을 알아볼 수도 있고...\n",
        "- 여기에 추가적으로 뉴스 크롤링. 시계열분석 더해주기\n",
        "\n",
        "\n",
        "장단기 크로스 지점 - 장기적으로는 성장하고 있는데, 단기적으로 꺾였을 경우 악재가 있다거나 \n",
        "성장모멘트가 주춤했을 수 있음 -> 이에 대한 요인을 분석하는 것이 중요 \n",
        "\n",
        "\n"
      ]
    },
    {
      "cell_type": "markdown",
      "metadata": {
        "id": "hHeDLr2c2bdP",
        "colab_type": "text"
      },
      "source": [
        "## 3) 장단기 크로스지점 찾기\n",
        "  - 주가 장단기 이평선에 관한 크로스 포인트 분석 (골든크로스, 데드크로스)\n",
        "  - 이를 통해 시장에 반영된 마케팅 기준선 부여"
      ]
    },
    {
      "cell_type": "code",
      "metadata": {
        "id": "T7rIYyJg2nnt",
        "colab_type": "code",
        "colab": {
          "base_uri": "https://localhost:8080/",
          "height": 241
        },
        "outputId": "c8fb8d32-bed7-414c-b0c8-d503205d9e35"
      },
      "source": [
        "plt.rcParams['figure.figsize'] = (14,4)\n",
        "ax1 = CJ_cj.plot(kind='line', x='DATE', y='MV5', color = 'Blue')\n",
        "ax2 = CJ_cj.plot(kind='line', x='DATE', y='MV30', color='Orange', ax=ax1)\n",
        "plt.legend() #mv5와 MV30이라는 선 표시해줌\n",
        "plt.show()"
      ],
      "execution_count": 51,
      "outputs": [
        {
          "output_type": "display_data",
          "data": {
            "image/png": "[encoded data removed]",
            "text/plain": [
              "<Figure size 1008x288 with 1 Axes>"
            ]
          },
          "metadata": {
            "tags": [],
            "needs_background": "light"
          }
        }
      ]
    },
    {
      "cell_type": "code",
      "metadata": {
        "id": "ObUDkQUT26wx",
        "colab_type": "code",
        "colab": {
          "base_uri": "https://localhost:8080/",
          "height": 195
        },
        "outputId": "36689f69-11f1-41e7-cf68-40a209e1c500"
      },
      "source": [
        "#단기물이 기준, 단기물이 뚫고 들어갔으면 매도 / 올라가면 매수\n",
        "#장단기 크로스포인트를 찾아서 매수매도지점 구하기 \n",
        "\n",
        "short = CJ_cj['MV5']\n",
        "long = CJ_cj['MV30']\n",
        "res=[]\n",
        "longday = 30\n",
        "\n",
        "for i in range(longday):\n",
        "  res.append(0)\n",
        "\n",
        "for i in range(longday, len(short)):\n",
        "  if (short[i]>long[i]):\n",
        "    res.append(1)  #매수 or 보유\n",
        "  else:\n",
        "    res.append(-1) #매도\n",
        "\n",
        "#Hold Position 잡기\n",
        "CJ_cj['holdPos'] = res\n",
        "CJ_cj.head()"
      ],
      "execution_count": 61,
      "outputs": [
        {
          "output_type": "execute_result",
          "data": {
            "text/html": [
              "<div>\n",
              "<style scoped>\n",
              "    .dataframe tbody tr th:only-of-type {\n",
              "        vertical-align: middle;\n",
              "    }\n",
              "\n",
              "    .dataframe tbody tr th {\n",
              "        vertical-align: top;\n",
              "    }\n",
              "\n",
              "    .dataframe thead th {\n",
              "        text-align: right;\n",
              "    }\n",
              "</style>\n",
              "<table border=\"1\" class=\"dataframe\">\n",
              "  <thead>\n",
              "    <tr style=\"text-align: right;\">\n",
              "      <th></th>\n",
              "      <th>DATE</th>\n",
              "      <th>OPENP</th>\n",
              "      <th>CLOSEP</th>\n",
              "      <th>HIGHP</th>\n",
              "      <th>LOWP</th>\n",
              "      <th>VOL</th>\n",
              "      <th>MV5</th>\n",
              "      <th>MV30</th>\n",
              "      <th>holdPos</th>\n",
              "    </tr>\n",
              "  </thead>\n",
              "  <tbody>\n",
              "    <tr>\n",
              "      <th>0</th>\n",
              "      <td>20200917</td>\n",
              "      <td>393000.0</td>\n",
              "      <td>387000.0</td>\n",
              "      <td>396000.0</td>\n",
              "      <td>386000.0</td>\n",
              "      <td>51334.0</td>\n",
              "      <td>0.0</td>\n",
              "      <td>0.0</td>\n",
              "      <td>0</td>\n",
              "    </tr>\n",
              "    <tr>\n",
              "      <th>1</th>\n",
              "      <td>20200916</td>\n",
              "      <td>395000.0</td>\n",
              "      <td>393000.0</td>\n",
              "      <td>402000.0</td>\n",
              "      <td>392500.0</td>\n",
              "      <td>48945.0</td>\n",
              "      <td>0.0</td>\n",
              "      <td>0.0</td>\n",
              "      <td>0</td>\n",
              "    </tr>\n",
              "    <tr>\n",
              "      <th>2</th>\n",
              "      <td>20200915</td>\n",
              "      <td>392000.0</td>\n",
              "      <td>394000.0</td>\n",
              "      <td>396000.0</td>\n",
              "      <td>388000.0</td>\n",
              "      <td>47654.0</td>\n",
              "      <td>0.0</td>\n",
              "      <td>0.0</td>\n",
              "      <td>0</td>\n",
              "    </tr>\n",
              "    <tr>\n",
              "      <th>3</th>\n",
              "      <td>20200914</td>\n",
              "      <td>403500.0</td>\n",
              "      <td>392000.0</td>\n",
              "      <td>404000.0</td>\n",
              "      <td>388000.0</td>\n",
              "      <td>100636.0</td>\n",
              "      <td>0.0</td>\n",
              "      <td>0.0</td>\n",
              "      <td>0</td>\n",
              "    </tr>\n",
              "    <tr>\n",
              "      <th>4</th>\n",
              "      <td>20200911</td>\n",
              "      <td>401500.0</td>\n",
              "      <td>403500.0</td>\n",
              "      <td>416500.0</td>\n",
              "      <td>399500.0</td>\n",
              "      <td>108033.0</td>\n",
              "      <td>393900.0</td>\n",
              "      <td>0.0</td>\n",
              "      <td>0</td>\n",
              "    </tr>\n",
              "  </tbody>\n",
              "</table>\n",
              "</div>"
            ],
            "text/plain": [
              "       DATE     OPENP    CLOSEP     HIGHP  ...       VOL       MV5  MV30  holdPos\n",
              "0  20200917  393000.0  387000.0  396000.0  ...   51334.0       0.0   0.0        0\n",
              "1  20200916  395000.0  393000.0  402000.0  ...   48945.0       0.0   0.0        0\n",
              "2  20200915  392000.0  394000.0  396000.0  ...   47654.0       0.0   0.0        0\n",
              "3  20200914  403500.0  392000.0  404000.0  ...  100636.0       0.0   0.0        0\n",
              "4  20200911  401500.0  403500.0  416500.0  ...  108033.0  393900.0   0.0        0\n",
              "\n",
              "[5 rows x 9 columns]"
            ]
          },
          "metadata": {
            "tags": []
          },
          "execution_count": 61
        }
      ]
    },
    {
      "cell_type": "code",
      "metadata": {
        "id": "zZtPAzKvJ6nb",
        "colab_type": "code",
        "colab": {
          "base_uri": "https://localhost:8080/",
          "height": 244
        },
        "outputId": "3176e8fa-756c-49b4-c240-a247aa069aa8"
      },
      "source": [
        "plt.rcParams['figure.figsize'] = (14,4)\n",
        "ax = CJ_cj.plot(kind='line', x='DATE', y='holdPos', color='Blue')\n",
        "mpl.rcParams['axes.unicode_minus'] = False  #마이너스 부호 처리\n",
        "plt.legend()\n",
        "plt.show()\n",
        "\n",
        "#값이 -1이면 매도, 1이면 매수/보유"
      ],
      "execution_count": 76,
      "outputs": [
        {
          "output_type": "display_data",
          "data": {
            "image/png": "[encoded data removed]",
            "text/plain": [
              "<Figure size 1008x288 with 1 Axes>"
            ]
          },
          "metadata": {
            "tags": [],
            "needs_background": "light"
          }
        }
      ]
    },
    {
      "cell_type": "markdown",
      "metadata": {
        "id": "kjoxfu_w6Cqw",
        "colab_type": "text"
      },
      "source": [
        "마케팅을 했을 때 초기효과가 없는 경우, 신차효과가 있는 기간에 "
      ]
    },
    {
      "cell_type": "markdown",
      "metadata": {
        "id": "wGHLbHGLKXuE",
        "colab_type": "text"
      },
      "source": [
        "## 4) 성장동력과 크로스포인트와의 관계"
      ]
    },
    {
      "cell_type": "markdown",
      "metadata": {
        "id": "CmYF0BLJ6Xs-",
        "colab_type": "text"
      },
      "source": [
        "- 마케팅에 얼마만큼의 효과가 있었는지, 기울기로 확인해보기\n",
        "\n",
        "- 단기 성장성(성장비율)과 장단기 주가 모멘텀 분석\n",
        "- 실질적 주가에 영향을 주는 마케팅 포인트 지점 획득\n",
        " - 단기물(ex.5일물) > 장기물(ex.60일물): 매수\n",
        " - 단기물 < 장기물: 매도"
      ]
    },
    {
      "cell_type": "code",
      "metadata": {
        "id": "nLgIPy5w7oib",
        "colab_type": "code",
        "colab": {
          "base_uri": "https://localhost:8080/",
          "height": 333
        },
        "outputId": "184800a0-3730-404a-e2a6-f7b79ebf66f4"
      },
      "source": [
        "#성장모멘텀 - 종가기준에 영향을 주었냐 안주었냐\n",
        "baseData = CJ_cj['MV5']\n",
        "res = [1]\n",
        "\n",
        "for i in range(1, len(baseData)):\n",
        "  c= ((baseData[i] / baseData[i-1])-1)*20 #전일 대비 단기이평선의 상승비율\n",
        "  res.append(c)\n",
        "\n",
        "plt.rcParams['figure.figsize'] = (14,4)\n",
        "ax = CJ_cj.plot(kind='line', x='DATE', y='holdPos',color = 'Blue')\n",
        "plt.plot(res)\n",
        "plt.plot([0,175],[0,0]) #0.0에 선을 그어주는 것\n",
        "plt.xlim(30,175)\n",
        "plt.ylim(-2,2)\n",
        "plt.show()"
      ],
      "execution_count": 80,
      "outputs": [
        {
          "output_type": "stream",
          "text": [
            "/usr/local/lib/python3.6/dist-packages/ipykernel_launcher.py:6: RuntimeWarning: invalid value encountered in double_scalars\n",
            "  \n",
            "/usr/local/lib/python3.6/dist-packages/ipykernel_launcher.py:6: RuntimeWarning: divide by zero encountered in double_scalars\n",
            "  \n"
          ],
          "name": "stderr"
        },
        {
          "output_type": "display_data",
          "data": {
            "image/png": "[encoded data removed]",
            "text/plain": [
              "<Figure size 1008x288 with 1 Axes>"
            ]
          },
          "metadata": {
            "tags": [],
            "needs_background": "light"
          }
        }
      ]
    },
    {
      "cell_type": "markdown",
      "metadata": {
        "id": "ipYT0fY5PSxD",
        "colab_type": "text"
      },
      "source": [
        "#5.캔들차트\n",
        "- 시가, 고가, 저가, 종가를 분석하여 마케팅의 적시적 효과를 보기 위해 진행\n",
        "- 라이브러리 사용"
      ]
    },
    {
      "cell_type": "code",
      "metadata": {
        "id": "EH6fqg8hPef3",
        "colab_type": "code",
        "colab": {}
      },
      "source": [
        "from mpl_finance import candlestick_ohlc"
      ],
      "execution_count": 81,
      "outputs": []
    },
    {
      "cell_type": "code",
      "metadata": {
        "id": "u8vIcpq-PlMo",
        "colab_type": "code",
        "colab": {
          "base_uri": "https://localhost:8080/",
          "height": 34
        },
        "outputId": "5003f8b1-6c0f-4bdf-c930-20afece5187c"
      },
      "source": [
        "lMin = 70\n",
        "lMax = 108  #해당하는 날짜 조절하는 기능\n",
        "\n",
        "cols = ['OPENP','CLOSEP', 'HIGHP','LOWP']\n",
        "days = CJ_cj['DATE'].values[lMin:lMax]       #x축에 들어갈 값 = 날짜\n",
        "cdata = CJ_cj[cols].values[lMin:lMax]        #첫번째 그래프의 데이터 = OP CP HP LP\n",
        "voldata = CJ_cj['VOL'].values[lMin:lMax]     #두번째 그래프의 데이터 = VAL(거래량)\n",
        "gmv5 = CJ_cj['MV5'].values[lMin:lMax]        #5일이평선\n",
        "gmv30 = CJ_cj['MV30'].values[lMin:lMax]      #30일이평선\n",
        "xtic = np.arange(0, len(days), step=5)\n",
        "#xdays=[days[i]-20000000 for i in xtic]       #200916과 같은 형태로 만들어주는 작업\n",
        "print(type(days))"
      ],
      "execution_count": 102,
      "outputs": [
        {
          "output_type": "stream",
          "text": [
            "<class 'numpy.ndarray'>\n"
          ],
          "name": "stdout"
        }
      ]
    },
    {
      "cell_type": "code",
      "metadata": {
        "id": "b7wGqSaPWuki",
        "colab_type": "code",
        "colab": {
          "base_uri": "https://localhost:8080/",
          "height": 375
        },
        "outputId": "e7a4761e-4395-47c6-e0bc-573dda12b180"
      },
      "source": [
        "#그림 비율\n",
        "fig = plt.figure(figsize=(14,7))\n",
        "\n",
        "#grid가 2행 1열짜리 높이비율 3:1로 생성\n",
        "gs = gridspec.GridSpec(2,1,height_ratios = [3,1])\n",
        "\n",
        "#x축 선정\n",
        "axis=[]\n",
        "axis.append(plt.subplot(gs[0]))\n",
        "\n",
        "#axis[0]을 그리드 공유\n",
        "axis.append(plt.subplot(gs[1], sharex=axis[0]))\n",
        "\n",
        "#공유 x축 표시를 없애기 (위의 차트에 x축 값이 없어짐!)\n",
        "axis[0].get_xaxis().set_visible(False)\n",
        "\n",
        "#candle stick용 데이터 만들기\n",
        "x = np.arange(len(cdata))\n",
        "xa = np.reshape(x, (-1,1))\n",
        "ohlc = np.hstack((xa, cdata))\n",
        "\n",
        "#Drawing candle stick\n",
        "candlestick_ohlc(axis[0], ohlc, width=0.5, colorup='red', colordown='blue')\n",
        "axis[1].bar(days, voldata, color='g', width=0.5)\n",
        "axis[0].plot(gmv5, label='5일이평선', color='orange')\n",
        "axis[0].plot(gmv30, label='30일이평선', color='lightblue')\n",
        "# axis[0].axvline(x=18, label='dd') #세로선 추가\n",
        "\n",
        "axis[0].legend()\n",
        "plt.title('CJ제일제당 #2 주가 영향 분석')  #2번 이벤트가 주가에 준 영향\n",
        "plt.xticks(rotation=90)\n",
        "\n",
        "plt.tight_layout()\n",
        "plt.show()"
      ],
      "execution_count": 108,
      "outputs": [
        {
          "output_type": "display_data",
          "data": {
            "image/png": "[encoded data removed]",
            "text/plain": [
              "<Figure size 1008x504 with 2 Axes>"
            ]
          },
          "metadata": {
            "tags": [],
            "needs_background": "light"
          }
        }
      ]
    },
    {
      "cell_type": "markdown",
      "metadata": {
        "id": "clcT07DNdFVH",
        "colab_type": "text"
      },
      "source": [
        "- 분석 추가"
      ]
    },
    {
      "cell_type": "markdown",
      "metadata": {
        "id": "qtWyGqPYdGx8",
        "colab_type": "text"
      },
      "source": [
        "#6.경쟁사 주식 알아보기\n",
        "- 오뚜기: 007310"
      ]
    },
    {
      "cell_type": "markdown",
      "metadata": {
        "id": "rhBTwWKCdaTR",
        "colab_type": "text"
      },
      "source": [
        "## 1)주식크롤링 + BigQuery 연동"
      ]
    },
    {
      "cell_type": "code",
      "metadata": {
        "id": "ibYrvzqVXKqE",
        "colab_type": "code",
        "colab": {
          "base_uri": "https://localhost:8080/",
          "height": 402
        },
        "outputId": "c008d6c1-fa4d-49b7-e165-916da78b9617"
      },
      "source": [
        "Otg = sev_page_crawling('007310',610)\n",
        "Otg"
      ],
      "execution_count": 110,
      "outputs": [
        {
          "output_type": "execute_result",
          "data": {
            "text/html": [
              "<div>\n",
              "<style scoped>\n",
              "    .dataframe tbody tr th:only-of-type {\n",
              "        vertical-align: middle;\n",
              "    }\n",
              "\n",
              "    .dataframe tbody tr th {\n",
              "        vertical-align: top;\n",
              "    }\n",
              "\n",
              "    .dataframe thead th {\n",
              "        text-align: right;\n",
              "    }\n",
              "</style>\n",
              "<table border=\"1\" class=\"dataframe\">\n",
              "  <thead>\n",
              "    <tr style=\"text-align: right;\">\n",
              "      <th></th>\n",
              "      <th>DATE</th>\n",
              "      <th>CLOSEP</th>\n",
              "      <th>COMPARE</th>\n",
              "      <th>OPENP</th>\n",
              "      <th>HIGHP</th>\n",
              "      <th>LOWP</th>\n",
              "      <th>VOL</th>\n",
              "    </tr>\n",
              "  </thead>\n",
              "  <tbody>\n",
              "    <tr>\n",
              "      <th>0</th>\n",
              "      <td>20200918</td>\n",
              "      <td>578000.0</td>\n",
              "      <td>0.0</td>\n",
              "      <td>578000.0</td>\n",
              "      <td>578000.0</td>\n",
              "      <td>578000.0</td>\n",
              "      <td>0.0</td>\n",
              "    </tr>\n",
              "    <tr>\n",
              "      <th>1</th>\n",
              "      <td>20200917</td>\n",
              "      <td>578000.0</td>\n",
              "      <td>7000.0</td>\n",
              "      <td>585000.0</td>\n",
              "      <td>585000.0</td>\n",
              "      <td>578000.0</td>\n",
              "      <td>3501.0</td>\n",
              "    </tr>\n",
              "    <tr>\n",
              "      <th>2</th>\n",
              "      <td>20200916</td>\n",
              "      <td>585000.0</td>\n",
              "      <td>1000.0</td>\n",
              "      <td>585000.0</td>\n",
              "      <td>587000.0</td>\n",
              "      <td>582000.0</td>\n",
              "      <td>3507.0</td>\n",
              "    </tr>\n",
              "    <tr>\n",
              "      <th>3</th>\n",
              "      <td>20200915</td>\n",
              "      <td>586000.0</td>\n",
              "      <td>4000.0</td>\n",
              "      <td>586000.0</td>\n",
              "      <td>592000.0</td>\n",
              "      <td>586000.0</td>\n",
              "      <td>3666.0</td>\n",
              "    </tr>\n",
              "    <tr>\n",
              "      <th>4</th>\n",
              "      <td>20200914</td>\n",
              "      <td>590000.0</td>\n",
              "      <td>1000.0</td>\n",
              "      <td>587000.0</td>\n",
              "      <td>594000.0</td>\n",
              "      <td>582000.0</td>\n",
              "      <td>3345.0</td>\n",
              "    </tr>\n",
              "    <tr>\n",
              "      <th>...</th>\n",
              "      <td>...</td>\n",
              "      <td>...</td>\n",
              "      <td>...</td>\n",
              "      <td>...</td>\n",
              "      <td>...</td>\n",
              "      <td>...</td>\n",
              "      <td>...</td>\n",
              "    </tr>\n",
              "    <tr>\n",
              "      <th>6089</th>\n",
              "      <td>19960629</td>\n",
              "      <td>20200.0</td>\n",
              "      <td>100.0</td>\n",
              "      <td>20200.0</td>\n",
              "      <td>20200.0</td>\n",
              "      <td>20200.0</td>\n",
              "      <td>20.0</td>\n",
              "    </tr>\n",
              "    <tr>\n",
              "      <th>6090</th>\n",
              "      <td>19960628</td>\n",
              "      <td>20300.0</td>\n",
              "      <td>200.0</td>\n",
              "      <td>20500.0</td>\n",
              "      <td>20500.0</td>\n",
              "      <td>20300.0</td>\n",
              "      <td>4210.0</td>\n",
              "    </tr>\n",
              "    <tr>\n",
              "      <th>6091</th>\n",
              "      <td>19960627</td>\n",
              "      <td>20500.0</td>\n",
              "      <td>1000.0</td>\n",
              "      <td>21500.0</td>\n",
              "      <td>21500.0</td>\n",
              "      <td>20500.0</td>\n",
              "      <td>620.0</td>\n",
              "    </tr>\n",
              "    <tr>\n",
              "      <th>6092</th>\n",
              "      <td>19960626</td>\n",
              "      <td>21500.0</td>\n",
              "      <td>0.0</td>\n",
              "      <td>21500.0</td>\n",
              "      <td>21500.0</td>\n",
              "      <td>21500.0</td>\n",
              "      <td>3450.0</td>\n",
              "    </tr>\n",
              "    <tr>\n",
              "      <th>6093</th>\n",
              "      <td>19960625</td>\n",
              "      <td>21500.0</td>\n",
              "      <td>0.0</td>\n",
              "      <td>21800.0</td>\n",
              "      <td>21800.0</td>\n",
              "      <td>21500.0</td>\n",
              "      <td>1230.0</td>\n",
              "    </tr>\n",
              "  </tbody>\n",
              "</table>\n",
              "<p>6094 rows × 7 columns</p>\n",
              "</div>"
            ],
            "text/plain": [
              "          DATE    CLOSEP  COMPARE     OPENP     HIGHP      LOWP     VOL\n",
              "0     20200918  578000.0      0.0  578000.0  578000.0  578000.0     0.0\n",
              "1     20200917  578000.0   7000.0  585000.0  585000.0  578000.0  3501.0\n",
              "2     20200916  585000.0   1000.0  585000.0  587000.0  582000.0  3507.0\n",
              "3     20200915  586000.0   4000.0  586000.0  592000.0  586000.0  3666.0\n",
              "4     20200914  590000.0   1000.0  587000.0  594000.0  582000.0  3345.0\n",
              "...        ...       ...      ...       ...       ...       ...     ...\n",
              "6089  19960629   20200.0    100.0   20200.0   20200.0   20200.0    20.0\n",
              "6090  19960628   20300.0    200.0   20500.0   20500.0   20300.0  4210.0\n",
              "6091  19960627   20500.0   1000.0   21500.0   21500.0   20500.0   620.0\n",
              "6092  19960626   21500.0      0.0   21500.0   21500.0   21500.0  3450.0\n",
              "6093  19960625   21500.0      0.0   21800.0   21800.0   21500.0  1230.0\n",
              "\n",
              "[6094 rows x 7 columns]"
            ]
          },
          "metadata": {
            "tags": []
          },
          "execution_count": 110
        }
      ]
    },
    {
      "cell_type": "code",
      "metadata": {
        "id": "XIfD_AtRXYC8",
        "colab_type": "code",
        "colab": {
          "base_uri": "https://localhost:8080/",
          "height": 34
        },
        "outputId": "f043de1b-ca7a-4e6f-fb69-eba9dcb6cb86"
      },
      "source": [
        "Otg.to_gbq(destination_table='NaverStock.Ottogi',\n",
        "               project_id='stockcj',\n",
        "               if_exists='replace')"
      ],
      "execution_count": 112,
      "outputs": [
        {
          "output_type": "stream",
          "text": [
            "1it [00:03,  3.92s/it]\n"
          ],
          "name": "stderr"
        }
      ]
    },
    {
      "cell_type": "code",
      "metadata": {
        "id": "AnpEzD3ph1hv",
        "colab_type": "code",
        "colab": {
          "base_uri": "https://localhost:8080/",
          "height": 195
        },
        "outputId": "613cec0a-745f-4503-f5a6-499aecd6b5ce"
      },
      "source": [
        "project_id='stockcj'\n",
        "sql=\"\"\"\n",
        "SELECT DATE, OPENP, CLOSEP, HIGHP, LOWP, VOL\n",
        "FROM `NaverStock.Ottogi`\n",
        "WHERE DATE>20200101\n",
        "ORDER BY DATE desc\n",
        "LIMIT 250\n",
        "\"\"\"\n",
        "\n",
        "Otg_df = pd.read_gbq(sql, project_id=project_id, dialect='standard')\n",
        "Otg_df.head()"
      ],
      "execution_count": 116,
      "outputs": [
        {
          "output_type": "execute_result",
          "data": {
            "text/html": [
              "<div>\n",
              "<style scoped>\n",
              "    .dataframe tbody tr th:only-of-type {\n",
              "        vertical-align: middle;\n",
              "    }\n",
              "\n",
              "    .dataframe tbody tr th {\n",
              "        vertical-align: top;\n",
              "    }\n",
              "\n",
              "    .dataframe thead th {\n",
              "        text-align: right;\n",
              "    }\n",
              "</style>\n",
              "<table border=\"1\" class=\"dataframe\">\n",
              "  <thead>\n",
              "    <tr style=\"text-align: right;\">\n",
              "      <th></th>\n",
              "      <th>DATE</th>\n",
              "      <th>OPENP</th>\n",
              "      <th>CLOSEP</th>\n",
              "      <th>HIGHP</th>\n",
              "      <th>LOWP</th>\n",
              "      <th>VOL</th>\n",
              "    </tr>\n",
              "  </thead>\n",
              "  <tbody>\n",
              "    <tr>\n",
              "      <th>0</th>\n",
              "      <td>20200918</td>\n",
              "      <td>578000.0</td>\n",
              "      <td>578000.0</td>\n",
              "      <td>578000.0</td>\n",
              "      <td>578000.0</td>\n",
              "      <td>0.0</td>\n",
              "    </tr>\n",
              "    <tr>\n",
              "      <th>1</th>\n",
              "      <td>20200917</td>\n",
              "      <td>585000.0</td>\n",
              "      <td>578000.0</td>\n",
              "      <td>585000.0</td>\n",
              "      <td>578000.0</td>\n",
              "      <td>3501.0</td>\n",
              "    </tr>\n",
              "    <tr>\n",
              "      <th>2</th>\n",
              "      <td>20200916</td>\n",
              "      <td>585000.0</td>\n",
              "      <td>585000.0</td>\n",
              "      <td>587000.0</td>\n",
              "      <td>582000.0</td>\n",
              "      <td>3507.0</td>\n",
              "    </tr>\n",
              "    <tr>\n",
              "      <th>3</th>\n",
              "      <td>20200915</td>\n",
              "      <td>586000.0</td>\n",
              "      <td>586000.0</td>\n",
              "      <td>592000.0</td>\n",
              "      <td>586000.0</td>\n",
              "      <td>3666.0</td>\n",
              "    </tr>\n",
              "    <tr>\n",
              "      <th>4</th>\n",
              "      <td>20200914</td>\n",
              "      <td>587000.0</td>\n",
              "      <td>590000.0</td>\n",
              "      <td>594000.0</td>\n",
              "      <td>582000.0</td>\n",
              "      <td>3345.0</td>\n",
              "    </tr>\n",
              "  </tbody>\n",
              "</table>\n",
              "</div>"
            ],
            "text/plain": [
              "       DATE     OPENP    CLOSEP     HIGHP      LOWP     VOL\n",
              "0  20200918  578000.0  578000.0  578000.0  578000.0     0.0\n",
              "1  20200917  585000.0  578000.0  585000.0  578000.0  3501.0\n",
              "2  20200916  585000.0  585000.0  587000.0  582000.0  3507.0\n",
              "3  20200915  586000.0  586000.0  592000.0  586000.0  3666.0\n",
              "4  20200914  587000.0  590000.0  594000.0  582000.0  3345.0"
            ]
          },
          "metadata": {
            "tags": []
          },
          "execution_count": 116
        }
      ]
    },
    {
      "cell_type": "markdown",
      "metadata": {
        "id": "zA6HyN8fgxe2",
        "colab_type": "text"
      },
      "source": [
        "## 2)CJ제일제당-오뚜기 비교"
      ]
    },
    {
      "cell_type": "code",
      "metadata": {
        "id": "BfTvK4qcglXO",
        "colab_type": "code",
        "colab": {
          "base_uri": "https://localhost:8080/",
          "height": 343
        },
        "outputId": "7212e82f-4ed4-4b44-e965-3eb369ad4301"
      },
      "source": [
        "CJ_OTG = pd.DataFrame([CJ_cj['DATE'], CJ_cj['CLOSEP'], Otg_df['CLOSEP']]).T\n",
        "CJ_OTG.columns = ['DATE','CJ_CLOSEP','OTG_CLOSEP']\n",
        "CJ_OTG.head(10)"
      ],
      "execution_count": 117,
      "outputs": [
        {
          "output_type": "execute_result",
          "data": {
            "text/html": [
              "<div>\n",
              "<style scoped>\n",
              "    .dataframe tbody tr th:only-of-type {\n",
              "        vertical-align: middle;\n",
              "    }\n",
              "\n",
              "    .dataframe tbody tr th {\n",
              "        vertical-align: top;\n",
              "    }\n",
              "\n",
              "    .dataframe thead th {\n",
              "        text-align: right;\n",
              "    }\n",
              "</style>\n",
              "<table border=\"1\" class=\"dataframe\">\n",
              "  <thead>\n",
              "    <tr style=\"text-align: right;\">\n",
              "      <th></th>\n",
              "      <th>DATE</th>\n",
              "      <th>CJ_CLOSEP</th>\n",
              "      <th>OTG_CLOSEP</th>\n",
              "    </tr>\n",
              "  </thead>\n",
              "  <tbody>\n",
              "    <tr>\n",
              "      <th>0</th>\n",
              "      <td>20200917</td>\n",
              "      <td>387000</td>\n",
              "      <td>578000</td>\n",
              "    </tr>\n",
              "    <tr>\n",
              "      <th>1</th>\n",
              "      <td>20200916</td>\n",
              "      <td>393000</td>\n",
              "      <td>578000</td>\n",
              "    </tr>\n",
              "    <tr>\n",
              "      <th>2</th>\n",
              "      <td>20200915</td>\n",
              "      <td>394000</td>\n",
              "      <td>585000</td>\n",
              "    </tr>\n",
              "    <tr>\n",
              "      <th>3</th>\n",
              "      <td>20200914</td>\n",
              "      <td>392000</td>\n",
              "      <td>586000</td>\n",
              "    </tr>\n",
              "    <tr>\n",
              "      <th>4</th>\n",
              "      <td>20200911</td>\n",
              "      <td>403500</td>\n",
              "      <td>590000</td>\n",
              "    </tr>\n",
              "    <tr>\n",
              "      <th>5</th>\n",
              "      <td>20200910</td>\n",
              "      <td>401500</td>\n",
              "      <td>589000</td>\n",
              "    </tr>\n",
              "    <tr>\n",
              "      <th>6</th>\n",
              "      <td>20200909</td>\n",
              "      <td>375500</td>\n",
              "      <td>596000</td>\n",
              "    </tr>\n",
              "    <tr>\n",
              "      <th>7</th>\n",
              "      <td>20200908</td>\n",
              "      <td>389500</td>\n",
              "      <td>587000</td>\n",
              "    </tr>\n",
              "    <tr>\n",
              "      <th>8</th>\n",
              "      <td>20200907</td>\n",
              "      <td>389500</td>\n",
              "      <td>582000</td>\n",
              "    </tr>\n",
              "    <tr>\n",
              "      <th>9</th>\n",
              "      <td>20200904</td>\n",
              "      <td>396500</td>\n",
              "      <td>582000</td>\n",
              "    </tr>\n",
              "  </tbody>\n",
              "</table>\n",
              "</div>"
            ],
            "text/plain": [
              "       DATE CJ_CLOSEP OTG_CLOSEP\n",
              "0  20200917    387000     578000\n",
              "1  20200916    393000     578000\n",
              "2  20200915    394000     585000\n",
              "3  20200914    392000     586000\n",
              "4  20200911    403500     590000\n",
              "5  20200910    401500     589000\n",
              "6  20200909    375500     596000\n",
              "7  20200908    389500     587000\n",
              "8  20200907    389500     582000\n",
              "9  20200904    396500     582000"
            ]
          },
          "metadata": {
            "tags": []
          },
          "execution_count": 117
        }
      ]
    },
    {
      "cell_type": "code",
      "metadata": {
        "id": "iLGXCUTVhO3K",
        "colab_type": "code",
        "colab": {
          "base_uri": "https://localhost:8080/",
          "height": 241
        },
        "outputId": "de2acbce-3de5-4f89-88bb-90ac461b9750"
      },
      "source": [
        "plt.rcParams['figure.figsize']=(14,4)\n",
        "ax1 = CJ_OTG.plot(kind='line',x='DATE',y='CJ_CLOSEP',color='Blue')\n",
        "ax2 = CJ_OTG.plot(kind='line', x='DATE',y='OTG_CLOSEP', color='Orange', ax=ax1)\n",
        "plt.legend()\n",
        "plt.show()"
      ],
      "execution_count": 118,
      "outputs": [
        {
          "output_type": "display_data",
          "data": {
            "image/png": "[encoded data removed]",
            "text/plain": [
              "<Figure size 1008x288 with 1 Axes>"
            ]
          },
          "metadata": {
            "tags": [],
            "needs_background": "light"
          }
        }
      ]
    },
    {
      "cell_type": "markdown",
      "metadata": {
        "id": "DlBHZy8wieDQ",
        "colab_type": "text"
      },
      "source": [
        "- 오뚜기는 1주가 584,000원이다. (200918 개장 기준)\n",
        "- CJ제일제당은 1주가 386,500원이다.(200918 개장 기준)\n",
        "- 1주 간 가격차이가 크기 때문에, 가격간 차이를 보기보다는 전반적인 흐름을 살펴보는 것이 중요하다고 생각함.\n",
        "- 변동의 차이를 보는 것이 중요할듯."
      ]
    }
  ]
}