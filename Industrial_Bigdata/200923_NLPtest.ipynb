{
  "nbformat": 4,
  "nbformat_minor": 0,
  "metadata": {
    "kernelspec": {
      "display_name": "Python 3",
      "language": "python",
      "name": "python3"
    },
    "language_info": {
      "codemirror_mode": {
        "name": "ipython",
        "version": 3
      },
      "file_extension": ".py",
      "mimetype": "text/x-python",
      "name": "python",
      "nbconvert_exporter": "python",
      "pygments_lexer": "ipython3",
      "version": "3.7.9"
    },
    "colab": {
      "name": "200923_NLPtest.ipynb",
      "provenance": [],
      "collapsed_sections": [],
      "include_colab_link": true
    }
  },
  "cells": [
    {
      "cell_type": "markdown",
      "metadata": {
        "id": "view-in-github",
        "colab_type": "text"
      },
      "source": [
        "<a href=\"https://colab.research.google.com/github/leenago/Asiae_edu/blob/master/Industrial_Bigdata/200923_NLPtest.ipynb\" target=\"_parent\"><img src=\"https://colab.research.google.com/assets/colab-badge.svg\" alt=\"Open In Colab\"/></a>"
      ]
    },
    {
      "cell_type": "markdown",
      "metadata": {
        "id": "90APR1Xw9rwK",
        "colab_type": "text"
      },
      "source": [
        "#NLP의 TF-IDF 원리 알아보기"
      ]
    },
    {
      "cell_type": "markdown",
      "metadata": {
        "id": "j_EXe-wu-dEI",
        "colab_type": "text"
      },
      "source": [
        "##1.준비하기"
      ]
    },
    {
      "cell_type": "code",
      "metadata": {
        "id": "qI2zyEw29ncf",
        "colab_type": "code",
        "colab": {}
      },
      "source": [
        "import numpy as np\n",
        "import pandas as pd\n",
        "import tensorflow as tf\n",
        "import matplotlib as mpl\n",
        "import matplotlib.pyplot as plt"
      ],
      "execution_count": null,
      "outputs": []
    },
    {
      "cell_type": "code",
      "metadata": {
        "id": "duymYLwq9nci",
        "colab_type": "code",
        "colab": {}
      },
      "source": [
        "import konlpy\n",
        "from konlpy.tag import Kkma\n",
        "kkma = Kkma()"
      ],
      "execution_count": null,
      "outputs": []
    },
    {
      "cell_type": "code",
      "metadata": {
        "id": "j0Sz3iKK9nck",
        "colab_type": "code",
        "colab": {},
        "outputId": "2721a772-b298-472e-c463-ce131b98fd27"
      },
      "source": [
        "kkma.pos('안녕하세요,여러분')"
      ],
      "execution_count": null,
      "outputs": [
        {
          "output_type": "execute_result",
          "data": {
            "text/plain": [
              "[('안녕', 'NNG'), ('하세', 'NNG'), ('요', 'JX'), (',', 'SP'), ('여러분', 'NP')]"
            ]
          },
          "metadata": {
            "tags": []
          },
          "execution_count": 3
        }
      ]
    },
    {
      "cell_type": "code",
      "metadata": {
        "id": "d8Y7YLKD9ncn",
        "colab_type": "code",
        "colab": {}
      },
      "source": [
        "from bs4 import BeautifulSoup as bs\n",
        "import requests"
      ],
      "execution_count": null,
      "outputs": []
    },
    {
      "cell_type": "markdown",
      "metadata": {
        "id": "XfDT9Y-w-0GY",
        "colab_type": "text"
      },
      "source": [
        "##2.웹크롤링 - 네이버 뉴스 데이터 수집"
      ]
    },
    {
      "cell_type": "code",
      "metadata": {
        "id": "4CFZbors9ncq",
        "colab_type": "code",
        "colab": {},
        "outputId": "79fe626b-6fe7-4603-9fb3-f93b2fef7332"
      },
      "source": [
        "url = 'https://search.naver.com/search.naver?where=news&sm=tab_jum&query={0}'\n",
        "#query 부분 제거\n",
        "\n",
        "src = requests.get(url.format('미국+기술주'))\n",
        "html = src.content\n",
        "len(html)"
      ],
      "execution_count": null,
      "outputs": [
        {
          "output_type": "execute_result",
          "data": {
            "text/plain": [
              "627183"
            ]
          },
          "metadata": {
            "tags": []
          },
          "execution_count": 5
        }
      ]
    },
    {
      "cell_type": "code",
      "metadata": {
        "id": "9RWK7Kpx9ncs",
        "colab_type": "code",
        "colab": {},
        "outputId": "1946a9f7-35fd-4640-c26c-19c6812b522e"
      },
      "source": [
        "soup = bs(html, 'html.parser')\n",
        "tgts = soup.select(\"ul.type01 li\") #여기서 에러가 났음\n",
        "len(tgts)"
      ],
      "execution_count": null,
      "outputs": [
        {
          "output_type": "execute_result",
          "data": {
            "text/plain": [
              "29"
            ]
          },
          "metadata": {
            "tags": []
          },
          "execution_count": 6
        }
      ]
    },
    {
      "cell_type": "code",
      "metadata": {
        "id": "WrzfCGjP9ncv",
        "colab_type": "code",
        "colab": {},
        "outputId": "0b274f45-9f96-4339-d1c2-ae98efffa759"
      },
      "source": [
        "for tgt in tgts:\n",
        "    if (tgt.select('dl > dt')):\n",
        "        headtxt = tgt.select('dl > dt')[0].text\n",
        "        print(headtxt)"
      ],
      "execution_count": null,
      "outputs": [
        {
          "output_type": "stream",
          "text": [
            "미국 증시, 3대 지수 상승…테슬라, 배터리데이 앞두고 급락\n",
            "뉴욕증시, 코로나19 우려 속에서도 기술주 강세로 상승 출발\n",
            "니콜라가 몰고온 기술주 먹구름···테슬라가 걷어낼까\n",
            "대신증권, '미국 기술주 진단' 유튜브 생방송\n",
            "MAGA 일제히 반등...뉴욕 증시, 기술주 주도로 상승\n",
            "[뉴욕증시 마감] 코로나19 재확산에도 아마존·애플 기술주 활약에 반등\n",
            "뉴욕증시, 기술주 활약에 동반 상승…나스닥 1.7%↑\n",
            "뉴욕증시, 코로나19 우려에도 기술주 강세…다우 0.52% 상승 마감\n",
            "[뉴욕마감]나스닥 1.7% 반등…아마존 주도 기술주 랠리\n",
            "뉴욕증시, 코로나19 우려에도 기술주 강세...다우, 0.52% 상승 마감\n"
          ],
          "name": "stdout"
        }
      ]
    },
    {
      "cell_type": "code",
      "metadata": {
        "id": "97fdZas49ncy",
        "colab_type": "code",
        "colab": {},
        "outputId": "482a3f66-339e-4e00-a5b5-f049d7bed3b4"
      },
      "source": [
        "titles =[]\n",
        "\n",
        "for tgt in tgts:\n",
        "    if (tgt.select('dl > dt')):\n",
        "        origin_addr = tgt.select('dl > dt a')[0].attrs['href'] #dl 안에 dt 안에 a\n",
        "        main_title = tgt.select('dl > dt a')[0].attrs['title']\n",
        "        titles.append(main_title)\n",
        "        print(origin_addr,\":\",main_title)\n",
        "\n",
        "\n",
        "#관련 기사들은 링크를 타고 들어가서 봐야한다.\n",
        "#title"
      ],
      "execution_count": null,
      "outputs": [
        {
          "output_type": "stream",
          "text": [
            "http://www.wowtv.co.kr/NewsCenter/News/Read?articleId=A202009230010&t=NN : 미국 증시, 3대 지수 상승…테슬라, 배터리데이 앞두고 급락\n",
            "https://news.joins.com/article/olink/23473095 : 뉴욕증시, 코로나19 우려 속에서도 기술주 강세로 상승 출발\n",
            "https://www.sedaily.com/NewsView/1Z7XXYWTAN : 니콜라가 몰고온 기술주 먹구름···테슬라가 걷어낼까\n",
            "http://www.shinailbo.co.kr/news/articleView.html?idxno=1323707 : 대신증권, '미국 기술주 진단' 유튜브 생방송\n",
            "http://www.bloter.net/archives/417466 : MAGA 일제히 반등...뉴욕 증시, 기술주 주도로 상승\n",
            "http://www.ajunews.com/view/20200923060155848 : [뉴욕증시 마감] 코로나19 재확산에도 아마존·애플 기술주 활약에 반등\n",
            "https://www.hankyung.com/finance/article/2020092395727 : 뉴욕증시, 기술주 활약에 동반 상승…나스닥 1.7%↑\n",
            "http://mbn.mk.co.kr/pages/news/newsView.php?category=mbn00003&news_seq_no=4289265 : 뉴욕증시, 코로나19 우려에도 기술주 강세…다우 0.52% 상승 마감\n",
            "https://www.news1.kr/articles/?4067167 : [뉴욕마감]나스닥 1.7% 반등…아마존 주도 기술주 랠리\n",
            "https://www.ytn.co.kr/_ln/0104_202009230601344159 : 뉴욕증시, 코로나19 우려에도 기술주 강세...다우, 0.52% 상승 마감\n"
          ],
          "name": "stdout"
        }
      ]
    },
    {
      "cell_type": "markdown",
      "metadata": {
        "id": "NLk45oiI_Cp8",
        "colab_type": "text"
      },
      "source": [
        "##3.수집데이터에 pos tagging 하기"
      ]
    },
    {
      "cell_type": "code",
      "metadata": {
        "id": "EwWtN00L9nc0",
        "colab_type": "code",
        "colab": {},
        "outputId": "f6ff281a-6b44-4dc8-f6ee-25b87c7226b4"
      },
      "source": [
        "worddict = {}\n",
        "\n",
        "for t in titles:\n",
        "    kpos = kkma.pos(t)\n",
        "    \n",
        "    jlist = []\n",
        "    for pos in kpos:\n",
        "        j='|'.join(pos)\n",
        "        if(j in worddict.keys()):\n",
        "            worddict[j] += 1\n",
        "        else:\n",
        "            worddict[j] = 1\n",
        "print(worddict)\n",
        "#'미국'이라는 단어가 2개, '증시'라는 단어가 7개 나왔다는 뜻. "
      ],
      "execution_count": null,
      "outputs": [
        {
          "output_type": "stream",
          "text": [
            "{'미국|NNP': 2, '증시|NNG': 7, ',|SP': 9, '3|NR': 1, '대|NNM': 1, '지수|NNG': 1, '상승|NNG': 6, '…|SE': 4, '테슬라|NNG': 2, '배터리|NNG': 1, '데이|NNG': 1, '앞|NNG': 1, '두고|NNP': 1, '급락|NNG': 1, '뉴욕|NNP': 7, '코로나|NNG': 4, '19|NR': 4, '우려|NNG': 3, '속|NNG': 1, '에서|JKM': 1, '도|JX': 4, '기술|NNG': 9, '주|NNG': 8, '강세|NNG': 3, '로|JKM': 1, '출발|NNG': 1, '니콜라|NNG': 1, '가|JKS': 2, '몰|VV': 1, '고|ECE': 1, '오|VV': 1, 'ㄴ|ETD': 1, '먹구름|NNG': 1, '···|SW': 1, '걷어내|VV': 1, 'ㄹ까|EFQ': 1, '대신|NNG': 1, '증권|NNG': 1, \"'|SS\": 2, '주|XSN': 1, '진단|NNG': 1, '유|NNG': 1, '튜브|NNG': 1, '생방송|NNG': 1, 'MAGA|OL': 1, '일제히|MAG': 1, '반등|NNG': 2, '...|SE': 2, '주도로|NNG': 1, '[|SS': 2, '마감|NNG': 4, ']|SS': 2, '재|XPN': 1, '확산|NNG': 1, '에|JKM': 5, '아마존|NNG': 1, '·|SP': 1, '애플|NNP': 1, '활약|NNG': 2, '동반|NNG': 1, '나스닥|NNG': 2, '1.7|NR': 2, '%|SW': 4, '↑|SW': 1, '다|MAG': 2, '우|NNG': 2, '0.52|NR': 2, '반|NNG': 1, '등|NNB': 1, '아마|MAG': 1, '존|NNP': 1, '주도|NNG': 1, '랠리|NNG': 1}\n"
          ],
          "name": "stdout"
        }
      ]
    },
    {
      "cell_type": "markdown",
      "metadata": {
        "id": "JBUXk0O8_MKP",
        "colab_type": "text"
      },
      "source": [
        "- NLP는 정규식을 잘 해야한다!\n",
        "  - [정규식페이지](https://regexr.com/)"
      ]
    },
    {
      "cell_type": "code",
      "metadata": {
        "id": "JP2XPKdd9nc4",
        "colab_type": "code",
        "colab": {},
        "outputId": "aced1dbe-287b-4f94-d372-7f0053f17113"
      },
      "source": [
        "#정규식으로 한글만 뽑아내기\n",
        "import re\n",
        "pattern =r'[^가-힣]'\n",
        "titles2 =[]\n",
        "\n",
        "for tgt in tgts:\n",
        "    if (tgt.select('dl > dt')):\n",
        "        origin_addr = tgt.select('dl > dt a')[0].attrs['href'] #dl 안에 dt 안에 a\n",
        "        main_title = tgt.select('dl > dt a')[0].attrs['title']\n",
        "        rtitle = re.sub(pattern, ' ', main_title) #정규식에서 빼고 싶은 단어들의 자리를 공백처리\n",
        "        titles2.append(rtitle)\n",
        "print(titles2)"
      ],
      "execution_count": null,
      "outputs": [
        {
          "output_type": "stream",
          "text": [
            "['미국 증시   대 지수 상승 테슬라  배터리데이 앞두고 급락', '뉴욕증시  코로나   우려 속에서도 기술주 강세로 상승 출발', '니콜라가 몰고온 기술주 먹구름   테슬라가 걷어낼까', '대신증권   미국 기술주 진단  유튜브 생방송', '     일제히 반등   뉴욕 증시  기술주 주도로 상승', ' 뉴욕증시 마감  코로나   재확산에도 아마존 애플 기술주 활약에 반등', '뉴욕증시  기술주 활약에 동반 상승 나스닥      ', '뉴욕증시  코로나   우려에도 기술주 강세 다우       상승 마감', ' 뉴욕마감 나스닥      반등 아마존 주도 기술주 랠리', '뉴욕증시  코로나   우려에도 기술주 강세   다우        상승 마감']\n"
          ],
          "name": "stdout"
        }
      ]
    },
    {
      "cell_type": "code",
      "metadata": {
        "id": "H12NCQtM9nc6",
        "colab_type": "code",
        "colab": {},
        "outputId": "c695e283-92f4-4ff6-b453-8f72ec865782"
      },
      "source": [
        "#제일 많이 나오는 단어 위주로 뽑기\n",
        "#해당하는 word map을 만들고, 의미있는 단어들을 뽑아내기\n",
        "nword = sorted(worddict.items(), key= lambda item : item[1], reverse = True)\n",
        "ndict = dict(nword[:20]) #많이 나온 상위 20개 단어\n",
        "\n",
        "#상위 20개의 단어들의 순서로 딕셔너리 제작\n",
        "mapkey = dict([(val, idx) for idx, val in enumerate(list(ndict.keys()))]) #몇번째 인덱스인지 보려고 만드는 과정\n",
        "mapkey"
      ],
      "execution_count": null,
      "outputs": [
        {
          "output_type": "execute_result",
          "data": {
            "text/plain": [
              "{',|SP': 0,\n",
              " '기술|NNG': 1,\n",
              " '주|NNG': 2,\n",
              " '증시|NNG': 3,\n",
              " '뉴욕|NNP': 4,\n",
              " '상승|NNG': 5,\n",
              " '에|JKM': 6,\n",
              " '…|SE': 7,\n",
              " '코로나|NNG': 8,\n",
              " '19|NR': 9,\n",
              " '도|JX': 10,\n",
              " '마감|NNG': 11,\n",
              " '%|SW': 12,\n",
              " '우려|NNG': 13,\n",
              " '강세|NNG': 14,\n",
              " '미국|NNP': 15,\n",
              " '테슬라|NNG': 16,\n",
              " '가|JKS': 17,\n",
              " \"'|SS\": 18,\n",
              " '반등|NNG': 19}"
            ]
          },
          "metadata": {
            "tags": []
          },
          "execution_count": 12
        }
      ]
    },
    {
      "cell_type": "code",
      "metadata": {
        "id": "Z7P-TmpR9nc9",
        "colab_type": "code",
        "colab": {},
        "outputId": "0d435306-4ca0-47bc-8849-a686161dc052"
      },
      "source": [
        "wmap = [0 for i in range(20)]\n",
        "wmap"
      ],
      "execution_count": null,
      "outputs": [
        {
          "output_type": "execute_result",
          "data": {
            "text/plain": [
              "[0, 0, 0, 0, 0, 0, 0, 0, 0, 0, 0, 0, 0, 0, 0, 0, 0, 0, 0, 0]"
            ]
          },
          "metadata": {
            "tags": []
          },
          "execution_count": 13
        }
      ]
    },
    {
      "cell_type": "code",
      "metadata": {
        "id": "O-mhowGy9nc_",
        "colab_type": "code",
        "colab": {},
        "outputId": "44de58b1-ee14-4623-e7f0-b73f88d96352"
      },
      "source": [
        "# word map 만들기\n",
        "\n",
        "wordmap = []\n",
        "for t in titles:\n",
        "    kpos = kkma.pos(t)\n",
        "    wmap = [0 for i in range(20)]  #상위 20개의 문자, \n",
        "    for pos in kpos:\n",
        "        j ='|'.join(pos)\n",
        "        if(j in mapkey.keys()):\n",
        "            wmap[mapkey[j]] += 1\n",
        "        else:\n",
        "            pass\n",
        "    wordmap.append(wmap)\n",
        "print(wordmap)"
      ],
      "execution_count": null,
      "outputs": [
        {
          "output_type": "stream",
          "text": [
            "[[2, 0, 0, 1, 0, 1, 0, 1, 0, 0, 0, 0, 0, 0, 0, 1, 1, 0, 0, 0], [1, 1, 1, 1, 1, 1, 0, 0, 1, 1, 1, 0, 0, 1, 1, 0, 0, 0, 0, 0], [0, 1, 1, 0, 0, 0, 0, 0, 0, 0, 0, 0, 0, 0, 0, 0, 1, 2, 0, 0], [1, 1, 0, 0, 0, 0, 0, 0, 0, 0, 0, 0, 0, 0, 0, 1, 0, 0, 2, 0], [1, 1, 1, 1, 1, 1, 0, 0, 0, 0, 0, 0, 0, 0, 0, 0, 0, 0, 0, 1], [0, 1, 1, 1, 1, 0, 2, 0, 1, 1, 1, 1, 0, 0, 0, 0, 0, 0, 0, 1], [1, 1, 1, 1, 1, 1, 1, 1, 0, 0, 0, 0, 1, 0, 0, 0, 0, 0, 0, 0], [1, 1, 1, 1, 1, 1, 1, 1, 1, 1, 1, 1, 1, 1, 1, 0, 0, 0, 0, 0], [0, 1, 1, 0, 1, 0, 0, 1, 0, 0, 0, 1, 1, 0, 0, 0, 0, 0, 0, 0], [2, 1, 1, 1, 1, 1, 1, 0, 1, 1, 1, 1, 1, 1, 1, 0, 0, 0, 0, 0]]\n"
          ],
          "name": "stdout"
        }
      ]
    },
    {
      "cell_type": "code",
      "metadata": {
        "id": "8a15vnL89ndB",
        "colab_type": "code",
        "colab": {}
      },
      "source": [
        "#[2, 0, 0, 1, 0, 1, 0, 0, 1, 0, 0, 0, 0, 0, 1, 1, 0, 0, 0, 0]\n",
        "#',|SP''기술|NNG''주|NNG''증시|NNG''뉴욕|NNP''상승|NNG''에|JKM''마감|NNG''…|SE''코로나|NNG''19|NR''도|JX''활약|NNG''%|SW''미국|NNP''테슬라|NNG''우려|NNG''강세|NNG''가|JKS''고|ECE'\n",
        "    \n",
        "    #이런 패턴이 나오면 검색량이 증가하고, 이런 패턴이 나오면 검색량이 하락하고 -> 가중치를 줌으로써 어떤 단어를 마케팅 단어로 사용해야 검색량이 증가하는지 볼 수 있다."
      ],
      "execution_count": null,
      "outputs": []
    },
    {
      "cell_type": "code",
      "metadata": {
        "id": "8rG7Hx8a9ndD",
        "colab_type": "code",
        "colab": {},
        "outputId": "58925e65-22c2-43ec-d174-bff6e97fc066"
      },
      "source": [
        "from IPython.core import display as ICD\n",
        "mapdata = pd.DataFrame(data=wordmap, columns = mapkey.keys())\n",
        "ICD.display(mapdata)"
      ],
      "execution_count": null,
      "outputs": [
        {
          "output_type": "display_data",
          "data": {
            "text/html": [
              "<div>\n",
              "<style scoped>\n",
              "    .dataframe tbody tr th:only-of-type {\n",
              "        vertical-align: middle;\n",
              "    }\n",
              "\n",
              "    .dataframe tbody tr th {\n",
              "        vertical-align: top;\n",
              "    }\n",
              "\n",
              "    .dataframe thead th {\n",
              "        text-align: right;\n",
              "    }\n",
              "</style>\n",
              "<table border=\"1\" class=\"dataframe\">\n",
              "  <thead>\n",
              "    <tr style=\"text-align: right;\">\n",
              "      <th></th>\n",
              "      <th>,|SP</th>\n",
              "      <th>기술|NNG</th>\n",
              "      <th>주|NNG</th>\n",
              "      <th>증시|NNG</th>\n",
              "      <th>뉴욕|NNP</th>\n",
              "      <th>상승|NNG</th>\n",
              "      <th>에|JKM</th>\n",
              "      <th>…|SE</th>\n",
              "      <th>코로나|NNG</th>\n",
              "      <th>19|NR</th>\n",
              "      <th>도|JX</th>\n",
              "      <th>마감|NNG</th>\n",
              "      <th>%|SW</th>\n",
              "      <th>우려|NNG</th>\n",
              "      <th>강세|NNG</th>\n",
              "      <th>미국|NNP</th>\n",
              "      <th>테슬라|NNG</th>\n",
              "      <th>가|JKS</th>\n",
              "      <th>'|SS</th>\n",
              "      <th>반등|NNG</th>\n",
              "    </tr>\n",
              "  </thead>\n",
              "  <tbody>\n",
              "    <tr>\n",
              "      <th>0</th>\n",
              "      <td>2</td>\n",
              "      <td>0</td>\n",
              "      <td>0</td>\n",
              "      <td>1</td>\n",
              "      <td>0</td>\n",
              "      <td>1</td>\n",
              "      <td>0</td>\n",
              "      <td>1</td>\n",
              "      <td>0</td>\n",
              "      <td>0</td>\n",
              "      <td>0</td>\n",
              "      <td>0</td>\n",
              "      <td>0</td>\n",
              "      <td>0</td>\n",
              "      <td>0</td>\n",
              "      <td>1</td>\n",
              "      <td>1</td>\n",
              "      <td>0</td>\n",
              "      <td>0</td>\n",
              "      <td>0</td>\n",
              "    </tr>\n",
              "    <tr>\n",
              "      <th>1</th>\n",
              "      <td>1</td>\n",
              "      <td>1</td>\n",
              "      <td>1</td>\n",
              "      <td>1</td>\n",
              "      <td>1</td>\n",
              "      <td>1</td>\n",
              "      <td>0</td>\n",
              "      <td>0</td>\n",
              "      <td>1</td>\n",
              "      <td>1</td>\n",
              "      <td>1</td>\n",
              "      <td>0</td>\n",
              "      <td>0</td>\n",
              "      <td>1</td>\n",
              "      <td>1</td>\n",
              "      <td>0</td>\n",
              "      <td>0</td>\n",
              "      <td>0</td>\n",
              "      <td>0</td>\n",
              "      <td>0</td>\n",
              "    </tr>\n",
              "    <tr>\n",
              "      <th>2</th>\n",
              "      <td>0</td>\n",
              "      <td>1</td>\n",
              "      <td>1</td>\n",
              "      <td>0</td>\n",
              "      <td>0</td>\n",
              "      <td>0</td>\n",
              "      <td>0</td>\n",
              "      <td>0</td>\n",
              "      <td>0</td>\n",
              "      <td>0</td>\n",
              "      <td>0</td>\n",
              "      <td>0</td>\n",
              "      <td>0</td>\n",
              "      <td>0</td>\n",
              "      <td>0</td>\n",
              "      <td>0</td>\n",
              "      <td>1</td>\n",
              "      <td>2</td>\n",
              "      <td>0</td>\n",
              "      <td>0</td>\n",
              "    </tr>\n",
              "    <tr>\n",
              "      <th>3</th>\n",
              "      <td>1</td>\n",
              "      <td>1</td>\n",
              "      <td>0</td>\n",
              "      <td>0</td>\n",
              "      <td>0</td>\n",
              "      <td>0</td>\n",
              "      <td>0</td>\n",
              "      <td>0</td>\n",
              "      <td>0</td>\n",
              "      <td>0</td>\n",
              "      <td>0</td>\n",
              "      <td>0</td>\n",
              "      <td>0</td>\n",
              "      <td>0</td>\n",
              "      <td>0</td>\n",
              "      <td>1</td>\n",
              "      <td>0</td>\n",
              "      <td>0</td>\n",
              "      <td>2</td>\n",
              "      <td>0</td>\n",
              "    </tr>\n",
              "    <tr>\n",
              "      <th>4</th>\n",
              "      <td>1</td>\n",
              "      <td>1</td>\n",
              "      <td>1</td>\n",
              "      <td>1</td>\n",
              "      <td>1</td>\n",
              "      <td>1</td>\n",
              "      <td>0</td>\n",
              "      <td>0</td>\n",
              "      <td>0</td>\n",
              "      <td>0</td>\n",
              "      <td>0</td>\n",
              "      <td>0</td>\n",
              "      <td>0</td>\n",
              "      <td>0</td>\n",
              "      <td>0</td>\n",
              "      <td>0</td>\n",
              "      <td>0</td>\n",
              "      <td>0</td>\n",
              "      <td>0</td>\n",
              "      <td>1</td>\n",
              "    </tr>\n",
              "    <tr>\n",
              "      <th>5</th>\n",
              "      <td>0</td>\n",
              "      <td>1</td>\n",
              "      <td>1</td>\n",
              "      <td>1</td>\n",
              "      <td>1</td>\n",
              "      <td>0</td>\n",
              "      <td>2</td>\n",
              "      <td>0</td>\n",
              "      <td>1</td>\n",
              "      <td>1</td>\n",
              "      <td>1</td>\n",
              "      <td>1</td>\n",
              "      <td>0</td>\n",
              "      <td>0</td>\n",
              "      <td>0</td>\n",
              "      <td>0</td>\n",
              "      <td>0</td>\n",
              "      <td>0</td>\n",
              "      <td>0</td>\n",
              "      <td>1</td>\n",
              "    </tr>\n",
              "    <tr>\n",
              "      <th>6</th>\n",
              "      <td>1</td>\n",
              "      <td>1</td>\n",
              "      <td>1</td>\n",
              "      <td>1</td>\n",
              "      <td>1</td>\n",
              "      <td>1</td>\n",
              "      <td>1</td>\n",
              "      <td>1</td>\n",
              "      <td>0</td>\n",
              "      <td>0</td>\n",
              "      <td>0</td>\n",
              "      <td>0</td>\n",
              "      <td>1</td>\n",
              "      <td>0</td>\n",
              "      <td>0</td>\n",
              "      <td>0</td>\n",
              "      <td>0</td>\n",
              "      <td>0</td>\n",
              "      <td>0</td>\n",
              "      <td>0</td>\n",
              "    </tr>\n",
              "    <tr>\n",
              "      <th>7</th>\n",
              "      <td>1</td>\n",
              "      <td>1</td>\n",
              "      <td>1</td>\n",
              "      <td>1</td>\n",
              "      <td>1</td>\n",
              "      <td>1</td>\n",
              "      <td>1</td>\n",
              "      <td>1</td>\n",
              "      <td>1</td>\n",
              "      <td>1</td>\n",
              "      <td>1</td>\n",
              "      <td>1</td>\n",
              "      <td>1</td>\n",
              "      <td>1</td>\n",
              "      <td>1</td>\n",
              "      <td>0</td>\n",
              "      <td>0</td>\n",
              "      <td>0</td>\n",
              "      <td>0</td>\n",
              "      <td>0</td>\n",
              "    </tr>\n",
              "    <tr>\n",
              "      <th>8</th>\n",
              "      <td>0</td>\n",
              "      <td>1</td>\n",
              "      <td>1</td>\n",
              "      <td>0</td>\n",
              "      <td>1</td>\n",
              "      <td>0</td>\n",
              "      <td>0</td>\n",
              "      <td>1</td>\n",
              "      <td>0</td>\n",
              "      <td>0</td>\n",
              "      <td>0</td>\n",
              "      <td>1</td>\n",
              "      <td>1</td>\n",
              "      <td>0</td>\n",
              "      <td>0</td>\n",
              "      <td>0</td>\n",
              "      <td>0</td>\n",
              "      <td>0</td>\n",
              "      <td>0</td>\n",
              "      <td>0</td>\n",
              "    </tr>\n",
              "    <tr>\n",
              "      <th>9</th>\n",
              "      <td>2</td>\n",
              "      <td>1</td>\n",
              "      <td>1</td>\n",
              "      <td>1</td>\n",
              "      <td>1</td>\n",
              "      <td>1</td>\n",
              "      <td>1</td>\n",
              "      <td>0</td>\n",
              "      <td>1</td>\n",
              "      <td>1</td>\n",
              "      <td>1</td>\n",
              "      <td>1</td>\n",
              "      <td>1</td>\n",
              "      <td>1</td>\n",
              "      <td>1</td>\n",
              "      <td>0</td>\n",
              "      <td>0</td>\n",
              "      <td>0</td>\n",
              "      <td>0</td>\n",
              "      <td>0</td>\n",
              "    </tr>\n",
              "  </tbody>\n",
              "</table>\n",
              "</div>"
            ],
            "text/plain": [
              "   ,|SP  기술|NNG  주|NNG  증시|NNG  뉴욕|NNP  상승|NNG  에|JKM  …|SE  코로나|NNG  19|NR  \\\n",
              "0     2       0      0       1       0       1      0     1        0      0   \n",
              "1     1       1      1       1       1       1      0     0        1      1   \n",
              "2     0       1      1       0       0       0      0     0        0      0   \n",
              "3     1       1      0       0       0       0      0     0        0      0   \n",
              "4     1       1      1       1       1       1      0     0        0      0   \n",
              "5     0       1      1       1       1       0      2     0        1      1   \n",
              "6     1       1      1       1       1       1      1     1        0      0   \n",
              "7     1       1      1       1       1       1      1     1        1      1   \n",
              "8     0       1      1       0       1       0      0     1        0      0   \n",
              "9     2       1      1       1       1       1      1     0        1      1   \n",
              "\n",
              "   도|JX  마감|NNG  %|SW  우려|NNG  강세|NNG  미국|NNP  테슬라|NNG  가|JKS  '|SS  반등|NNG  \n",
              "0     0       0     0       0       0       1        1      0     0       0  \n",
              "1     1       0     0       1       1       0        0      0     0       0  \n",
              "2     0       0     0       0       0       0        1      2     0       0  \n",
              "3     0       0     0       0       0       1        0      0     2       0  \n",
              "4     0       0     0       0       0       0        0      0     0       1  \n",
              "5     1       1     0       0       0       0        0      0     0       1  \n",
              "6     0       0     1       0       0       0        0      0     0       0  \n",
              "7     1       1     1       1       1       0        0      0     0       0  \n",
              "8     0       1     1       0       0       0        0      0     0       0  \n",
              "9     1       1     1       1       1       0        0      0     0       0  "
            ]
          },
          "metadata": {
            "tags": []
          }
        }
      ]
    }
  ]
}